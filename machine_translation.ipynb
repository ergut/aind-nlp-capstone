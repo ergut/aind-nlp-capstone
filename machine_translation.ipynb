{
  "nbformat": 4,
  "nbformat_minor": 0,
  "metadata": {
    "colab": {
      "name": "machine_translation.ipynb",
      "version": "0.3.2",
      "provenance": [],
      "collapsed_sections": [],
      "toc_visible": true
    },
    "kernelspec": {
      "display_name": "Python 3",
      "language": "python",
      "name": "python3"
    },
    "accelerator": "GPU"
  },
  "cells": [
    {
      "metadata": {
        "id": "LheK0rCt1Dyr",
        "colab_type": "text"
      },
      "cell_type": "markdown",
      "source": [
        "# Artificial Intelligence Nanodegree\n",
        "## Machine Translation Project\n",
        "In this notebook, sections that end with **'(IMPLEMENTATION)'** in the header indicate that the following blocks of code will require additional functionality which you must provide. Please be sure to read the instructions carefully!\n",
        "\n",
        "## Introduction\n",
        "In this notebook, you will build a deep neural network that functions as part of an end-to-end machine translation pipeline. Your completed pipeline will accept English text as input and return the French translation.\n",
        "\n",
        "- **Preprocess** - You'll convert text to sequence of integers.\n",
        "- **Models** Create models which accepts a sequence of integers as input and returns a probability distribution over possible translations. After learning about the basic types of neural networks that are often used for machine translation, you will engage in your own investigations, to design your own model!\n",
        "- **Prediction** Run the model on English text."
      ]
    },
    {
      "metadata": {
        "id": "qapTBq4GPB1S",
        "colab_type": "text"
      },
      "cell_type": "markdown",
      "source": [
        "## Environment Preparation"
      ]
    },
    {
      "metadata": {
        "id": "uThOET4Zo4Ys",
        "colab_type": "code",
        "colab": {}
      },
      "cell_type": "code",
      "source": [
        "NUM_EPOCHS = 50"
      ],
      "execution_count": 0,
      "outputs": []
    },
    {
      "metadata": {
        "id": "A5qsbpbw5vsB",
        "colab_type": "text"
      },
      "cell_type": "markdown",
      "source": [
        "### Visualization"
      ]
    },
    {
      "metadata": {
        "id": "6d7eucauK3X7",
        "colab_type": "text"
      },
      "cell_type": "markdown",
      "source": [
        "#### Function: Plot Training History"
      ]
    },
    {
      "metadata": {
        "id": "G2dv7vdvK16w",
        "colab_type": "code",
        "colab": {}
      },
      "cell_type": "code",
      "source": [
        "import matplotlib.pyplot as plt\n",
        "import numpy\n",
        "import seaborn as sns\n",
        "sns.set_style('whitegrid')\n",
        "\n",
        "\n",
        "def plot_training_history(history, title=None):\n",
        "  fig, axes = plt.subplots(1, 2, figsize=(16,6))\n",
        "\n",
        "  fig.suptitle(title)\n",
        "  no = 0\n",
        "  axes[no].plot(history.history['loss'])\n",
        "  axes[no].plot(history.history['val_loss'])\n",
        "  axes[no].set_title('Loss')\n",
        "  axes[no].set_ylabel('accuracy')\n",
        "  axes[no].set_xlabel('epoch')\n",
        "  #axes[no].legend(['train', 'test'], loc='upper right')\n",
        "  xlim = axes[no].get_xlim()\n",
        "  axes[no].set_xlim(0,xlim[1])\n",
        "  #ylim = axes[no].set_ylim()\n",
        "  #axes[no].set_ylim(0,ylim[1])\n",
        "  axes[no].set_ylim(0,3)\n",
        "  \n",
        "  no = 1\n",
        "  axes[no].plot(history.history['acc'])\n",
        "  axes[no].plot(history.history['val_acc'])\n",
        "  axes[no].set_title('Accuracy')\n",
        "  axes[no].set_ylabel('accuracy')\n",
        "  axes[no].set_xlabel('epoch')\n",
        "  axes[no].set_ylim((0,1))\n",
        "  xlim = axes[no].get_xlim()\n",
        "  axes[no].set_xlim(0,xlim[1])\n",
        "  axes[no].legend(['train', 'test'], loc='upper left')\n",
        "  \n",
        "  plt.show()\n",
        "  "
      ],
      "execution_count": 0,
      "outputs": []
    },
    {
      "metadata": {
        "id": "TYeATQh4h5km",
        "colab_type": "text"
      },
      "cell_type": "markdown",
      "source": [
        "### Setup to run on Google Colab\n",
        "This project is run on Google Colab. This is the procedure:\n",
        "* First download `machine_translation.ipynb` file into your Google drive and access it using [Google Colab](https://colab.research.google.com/)\n",
        "* Clone the [capstone project](https://github.com/udacity/aind2-nlp-capstone.git) from github\n",
        "* Add `ain2-nlp-capstone` directory into system path so that python can import helper files \n",
        "* Install `keras`"
      ]
    },
    {
      "metadata": {
        "id": "0JMaiEmL1IHD",
        "colab_type": "code",
        "colab": {
          "base_uri": "https://localhost:8080/",
          "height": 85
        },
        "outputId": "fd34cb91-2e08-42d9-d0db-35f1623e6310"
      },
      "cell_type": "code",
      "source": [
        "import os\n",
        "capstone_path = \"/content/aind2-nlp-capstone\"\n",
        "if not os.path.isdir(capstone_path):\n",
        "  !git clone https://github.com/udacity/aind2-nlp-capstone.git\n",
        "else:\n",
        "  print('Repository already cloned. Skipping...')"
      ],
      "execution_count": 4,
      "outputs": [
        {
          "output_type": "stream",
          "text": [
            "Cloning into 'aind2-nlp-capstone'...\n",
            "remote: Counting objects: 40, done.\u001b[K\n",
            "remote: Total 40 (delta 0), reused 0 (delta 0), pack-reused 40\u001b[K\n",
            "Unpacking objects: 100% (40/40), done.\n"
          ],
          "name": "stdout"
        }
      ]
    },
    {
      "metadata": {
        "id": "ezZjRw3u4OjV",
        "colab_type": "text"
      },
      "cell_type": "markdown",
      "source": [
        "Add the capstone directory into system path so that we can import modules (e.g. help.py) from that directory. "
      ]
    },
    {
      "metadata": {
        "id": "wqPf7SvD1yGt",
        "colab_type": "code",
        "colab": {
          "base_uri": "https://localhost:8080/",
          "height": 221
        },
        "outputId": "d9bd030d-06b7-4fc1-f58e-b915996843dc"
      },
      "cell_type": "code",
      "source": [
        "import sys\n",
        "if not capstone_path in sys.path:\n",
        "  print('Adding capstone path')\n",
        "  sys.path.insert(0, capstone_path)\n",
        "else:\n",
        "  print('Capstone path already exists...')\n",
        "print(\"PATH:\")\n",
        "print(\"\\n\".join(sys.path))"
      ],
      "execution_count": 5,
      "outputs": [
        {
          "output_type": "stream",
          "text": [
            "Adding capstone path\n",
            "PATH:\n",
            "/content/aind2-nlp-capstone\n",
            "\n",
            "/env/python\n",
            "/usr/lib/python36.zip\n",
            "/usr/lib/python3.6\n",
            "/usr/lib/python3.6/lib-dynload\n",
            "/usr/local/lib/python3.6/dist-packages\n",
            "/usr/lib/python3/dist-packages\n",
            "/usr/local/lib/python3.6/dist-packages/IPython/extensions\n",
            "/content/.ipython\n"
          ],
          "name": "stdout"
        }
      ]
    },
    {
      "metadata": {
        "id": "iD5G65j12Gxv",
        "colab_type": "code",
        "colab": {
          "base_uri": "https://localhost:8080/",
          "height": 119
        },
        "outputId": "3bbeee05-9f59-42e8-9b78-a113e2073798"
      },
      "cell_type": "code",
      "source": [
        "!pip install keras"
      ],
      "execution_count": 6,
      "outputs": [
        {
          "output_type": "stream",
          "text": [
            "Requirement already satisfied: keras in /usr/local/lib/python3.6/dist-packages (2.1.6)\r\n",
            "Requirement already satisfied: h5py in /usr/local/lib/python3.6/dist-packages (from keras) (2.8.0)\r\n",
            "Requirement already satisfied: numpy>=1.9.1 in /usr/local/lib/python3.6/dist-packages (from keras) (1.14.5)\r\n",
            "Requirement already satisfied: six>=1.9.0 in /usr/local/lib/python3.6/dist-packages (from keras) (1.11.0)\r\n",
            "Requirement already satisfied: pyyaml in /usr/local/lib/python3.6/dist-packages (from keras) (3.13)\r\n",
            "Requirement already satisfied: scipy>=0.14 in /usr/local/lib/python3.6/dist-packages (from keras) (0.19.1)\r\n"
          ],
          "name": "stdout"
        }
      ]
    },
    {
      "metadata": {
        "id": "3d2lcyyQibVP",
        "colab_type": "text"
      },
      "cell_type": "markdown",
      "source": [
        "Colab requires `%aimport` to run on separate lines for each file to be imported"
      ]
    },
    {
      "metadata": {
        "id": "vmqhrLon1Dyt",
        "colab_type": "code",
        "colab": {
          "base_uri": "https://localhost:8080/",
          "height": 34
        },
        "outputId": "6c0e2516-dc0f-4499-d1d5-4808c410a2f2"
      },
      "cell_type": "code",
      "source": [
        "%load_ext autoreload\n",
        "%aimport helper\n",
        "%aimport tests\n",
        "%autoreload 1\n",
        "\n",
        "print('Import completed')"
      ],
      "execution_count": 7,
      "outputs": [
        {
          "output_type": "stream",
          "text": [
            "Import completed\n"
          ],
          "name": "stdout"
        }
      ]
    },
    {
      "metadata": {
        "id": "487Y7N3pi11P",
        "colab_type": "text"
      },
      "cell_type": "markdown",
      "source": [
        "### Import modules"
      ]
    },
    {
      "metadata": {
        "id": "F33Kn_kz1Dy3",
        "colab_type": "code",
        "colab": {
          "base_uri": "https://localhost:8080/",
          "height": 34
        },
        "outputId": "bced0aed-0ee8-4bd7-e5d9-e991f55e7c43"
      },
      "cell_type": "code",
      "source": [
        "import collections\n",
        "\n",
        "import helper\n",
        "import numpy as np\n",
        "import project_tests as tests\n",
        "\n",
        "from keras.preprocessing.text import Tokenizer\n",
        "from keras.preprocessing.sequence import pad_sequences\n",
        "from keras.models import Model, Sequential\n",
        "from keras.layers import SimpleRNN, GRU, Dense, TimeDistributed, Bidirectional, ZeroPadding1D\n",
        "from keras.layers.embeddings import Embedding\n",
        "\n",
        "from keras.optimizers import Adam\n",
        "from keras.losses import sparse_categorical_crossentropy\n",
        "\n",
        "print('Modules imported!')"
      ],
      "execution_count": 21,
      "outputs": [
        {
          "output_type": "stream",
          "text": [
            "Modules imported!\n"
          ],
          "name": "stdout"
        }
      ]
    },
    {
      "metadata": {
        "id": "tWlP1cWz1DzI",
        "colab_type": "text"
      },
      "cell_type": "markdown",
      "source": [
        "### Verify access to the GPU\n",
        "The following test applies only if you expect to be using a GPU, e.g., while running in a Udacity Workspace or using an AWS instance with GPU support. Run the next cell, and verify that the device_type is \"GPU\".\n",
        "- If the device is not GPU & you are running from a Udacity Workspace, then save your workspace with the icon at the top, then click \"enable\" at the bottom of the workspace.\n",
        "- If the device is not GPU & you are running from an AWS instance, then refer to the cloud computing instructions in the classroom to verify your setup steps."
      ]
    },
    {
      "metadata": {
        "id": "wJmcqlBw1DzK",
        "colab_type": "code",
        "colab": {
          "base_uri": "https://localhost:8080/",
          "height": 306
        },
        "outputId": "86d0ef76-d743-4a3f-fdde-a63727de9871"
      },
      "cell_type": "code",
      "source": [
        "from tensorflow.python.client import device_lib\n",
        "print(device_lib.list_local_devices())"
      ],
      "execution_count": 9,
      "outputs": [
        {
          "output_type": "stream",
          "text": [
            "[name: \"/device:CPU:0\"\n",
            "device_type: \"CPU\"\n",
            "memory_limit: 268435456\n",
            "locality {\n",
            "}\n",
            "incarnation: 9790636248146170624\n",
            ", name: \"/device:GPU:0\"\n",
            "device_type: \"GPU\"\n",
            "memory_limit: 11281989632\n",
            "locality {\n",
            "  bus_id: 1\n",
            "  links {\n",
            "  }\n",
            "}\n",
            "incarnation: 14855598634535120067\n",
            "physical_device_desc: \"device: 0, name: Tesla K80, pci bus id: 0000:00:04.0, compute capability: 3.7\"\n",
            "]\n"
          ],
          "name": "stdout"
        }
      ]
    },
    {
      "metadata": {
        "id": "Hlm9S2e-1DzQ",
        "colab_type": "text"
      },
      "cell_type": "markdown",
      "source": [
        "## Dataset\n",
        "We begin by investigating the dataset that will be used to train and evaluate your pipeline.  The most common datasets used for machine translation are from [WMT](http://www.statmt.org/).  However, that will take a long time to train a neural network on.  We'll be using a dataset we created for this project that contains a small vocabulary.  You'll be able to train your model in a reasonable time with this dataset.\n",
        "### Load Data\n",
        "The data is located in `data/small_vocab_en` and `data/small_vocab_fr`. The `small_vocab_en` file contains English sentences with their French translations in the `small_vocab_fr` file. Load the English and French data from these files from running the cell below."
      ]
    },
    {
      "metadata": {
        "id": "eiz6IXCk1DzR",
        "colab_type": "code",
        "colab": {
          "base_uri": "https://localhost:8080/",
          "height": 34
        },
        "outputId": "5c4564d9-ef68-4ded-965e-8885d62e609e"
      },
      "cell_type": "code",
      "source": [
        "import os\n",
        "homedir = capstone_path # = '.'\n",
        "\n",
        "# Load English data\n",
        "english_sentences = helper.load_data(os.path.join(homedir, 'data/small_vocab_en'))\n",
        "# Load French data\n",
        "french_sentences = helper.load_data(os.path.join(homedir, 'data/small_vocab_fr'))\n",
        "\n",
        "print('Dataset Loaded')"
      ],
      "execution_count": 10,
      "outputs": [
        {
          "output_type": "stream",
          "text": [
            "Dataset Loaded\n"
          ],
          "name": "stdout"
        }
      ]
    },
    {
      "metadata": {
        "id": "L5RYMqgz1Dzc",
        "colab_type": "text"
      },
      "cell_type": "markdown",
      "source": [
        "### Files\n",
        "Each line in `small_vocab_en` contains an English sentence with the respective translation in each line of `small_vocab_fr`.  View the first two lines from each file."
      ]
    },
    {
      "metadata": {
        "id": "4TGwCqRU1Dzd",
        "colab_type": "code",
        "colab": {
          "base_uri": "https://localhost:8080/",
          "height": 105
        },
        "outputId": "37bbe5ae-7986-4e9d-c215-f45520c548e0"
      },
      "cell_type": "code",
      "source": [
        "for sample_i in range(2):\n",
        "    print('small_vocab_en Line {}:  {}'.format(sample_i + 1, english_sentences[sample_i]))\n",
        "    print('small_vocab_fr Line {}:  {}'.format(sample_i + 1, french_sentences[sample_i]))"
      ],
      "execution_count": 11,
      "outputs": [
        {
          "output_type": "stream",
          "text": [
            "small_vocab_en Line 1:  new jersey is sometimes quiet during autumn , and it is snowy in april .\n",
            "small_vocab_fr Line 1:  new jersey est parfois calme pendant l' automne , et il est neigeux en avril .\n",
            "small_vocab_en Line 2:  the united states is usually chilly during july , and it is usually freezing in november .\n",
            "small_vocab_fr Line 2:  les états-unis est généralement froid en juillet , et il gèle habituellement en novembre .\n"
          ],
          "name": "stdout"
        }
      ]
    },
    {
      "metadata": {
        "id": "Rs7EfT0F1Dzp",
        "colab_type": "text"
      },
      "cell_type": "markdown",
      "source": [
        "From looking at the sentences, you can see they have been preprocessed already.  The puncuations have been delimited using spaces. All the text have been converted to lowercase.  This should save you some time, but the text requires more preprocessing.\n",
        "### Vocabulary\n",
        "The complexity of the problem is determined by the complexity of the vocabulary.  A more complex vocabulary is a more complex problem.  Let's look at the complexity of the dataset we'll be working with."
      ]
    },
    {
      "metadata": {
        "id": "gaGNtW_b1Dzq",
        "colab_type": "code",
        "colab": {
          "base_uri": "https://localhost:8080/",
          "height": 170
        },
        "outputId": "bea9a4cc-782d-454c-b0ca-af35599767ab"
      },
      "cell_type": "code",
      "source": [
        "english_words_counter = collections.Counter([word for sentence in english_sentences for word in sentence.split()])\n",
        "french_words_counter = collections.Counter([word for sentence in french_sentences for word in sentence.split()])\n",
        "\n",
        "print('{:,} English words.'.format(len([word for sentence in english_sentences for word in sentence.split()])))\n",
        "print('{:,} unique English words.'.format(len(english_words_counter)))\n",
        "print('10 Most common words in the English dataset:')\n",
        "print('\"' + '\" \"'.join(list(zip(*english_words_counter.most_common(10)))[0]) + '\"')\n",
        "print()\n",
        "print('{:,} French words.'.format(len([word for sentence in french_sentences for word in sentence.split()])))\n",
        "print('{:,} unique French words.'.format(len(french_words_counter)))\n",
        "print('10 Most common words in the French dataset:')\n",
        "print('\"' + '\" \"'.join(list(zip(*french_words_counter.most_common(10)))[0]) + '\"')"
      ],
      "execution_count": 12,
      "outputs": [
        {
          "output_type": "stream",
          "text": [
            "1,823,250 English words.\n",
            "227 unique English words.\n",
            "10 Most common words in the English dataset:\n",
            "\"is\" \",\" \".\" \"in\" \"it\" \"during\" \"the\" \"but\" \"and\" \"sometimes\"\n",
            "\n",
            "1,961,295 French words.\n",
            "355 unique French words.\n",
            "10 Most common words in the French dataset:\n",
            "\"est\" \".\" \",\" \"en\" \"il\" \"les\" \"mais\" \"et\" \"la\" \"parfois\"\n"
          ],
          "name": "stdout"
        }
      ]
    },
    {
      "metadata": {
        "id": "lkU9KA8O1Dzs",
        "colab_type": "text"
      },
      "cell_type": "markdown",
      "source": [
        "For comparison, _Alice's Adventures in Wonderland_ contains 2,766 unique words of a total of 15,500 words.\n",
        "## Preprocess\n",
        "For this project, you won't use text data as input to your model. Instead, you'll convert the text into sequences of integers using the following preprocess methods:\n",
        "1. Tokenize the words into ids\n",
        "2. Add padding to make all the sequences the same length.\n",
        "\n",
        "Time to start preprocessing the data...\n",
        "### Tokenize (IMPLEMENTATION)\n",
        "For a neural network to predict on text data, it first has to be turned into data it can understand. Text data like \"dog\" is a sequence of ASCII character encodings.  Since a neural network is a series of multiplication and addition operations, the input data needs to be number(s).\n",
        "\n",
        "We can turn each character into a number or each word into a number.  These are called character and word ids, respectively.  Character ids are used for character level models that generate text predictions for each character.  A word level model uses word ids that generate text predictions for each word.  Word level models tend to learn better, since they are lower in complexity, so we'll use those.\n",
        "\n",
        "Turn each sentence into a sequence of words ids using Keras's [`Tokenizer`](https://keras.io/preprocessing/text/#tokenizer) function. Use this function to tokenize `english_sentences` and `french_sentences` in the cell below.\n",
        "\n",
        "Running the cell will run `tokenize` on sample data and show output for debugging."
      ]
    },
    {
      "metadata": {
        "id": "Lt4HWcJ11Dzs",
        "colab_type": "code",
        "colab": {
          "base_uri": "https://localhost:8080/",
          "height": 224
        },
        "outputId": "96abbfd3-8c59-450a-de5a-ad2fc83f672b"
      },
      "cell_type": "code",
      "source": [
        "from keras.preprocessing.text import Tokenizer\n",
        "def tokenize(x):\n",
        "    \"\"\"\n",
        "    Tokenize x\n",
        "    :param x: List of sentences/strings to be tokenized\n",
        "    :return: Tuple of (tokenized x data, tokenizer used to tokenize x)\n",
        "    \"\"\"\n",
        "    # TODO: Implement\n",
        "    tokenizer = Tokenizer()\n",
        "    tokenizer.fit_on_texts(x)\n",
        "    return tokenizer.texts_to_sequences(x), tokenizer\n",
        "\n",
        "tests.test_tokenize(tokenize)\n",
        "\n",
        "# Tokenize Example output\n",
        "text_sentences = [\n",
        "    'The quick brown fox jumps over the lazy dog .',\n",
        "    'By Jove , my quick study of lexicography won a prize .',\n",
        "    'This is a short sentence .']\n",
        "text_tokenized, text_tokenizer = tokenize(text_sentences)\n",
        "print(text_tokenizer.word_index)\n",
        "print()\n",
        "for sample_i, (sent, token_sent) in enumerate(zip(text_sentences, text_tokenized)):\n",
        "    print('Sequence {} in x'.format(sample_i + 1))\n",
        "    print('  Input:  {}'.format(sent))\n",
        "    print('  Output: {}'.format(token_sent))"
      ],
      "execution_count": 13,
      "outputs": [
        {
          "output_type": "stream",
          "text": [
            "{'the': 1, 'quick': 2, 'a': 3, 'brown': 4, 'fox': 5, 'jumps': 6, 'over': 7, 'lazy': 8, 'dog': 9, 'by': 10, 'jove': 11, 'my': 12, 'study': 13, 'of': 14, 'lexicography': 15, 'won': 16, 'prize': 17, 'this': 18, 'is': 19, 'short': 20, 'sentence': 21}\n",
            "\n",
            "Sequence 1 in x\n",
            "  Input:  The quick brown fox jumps over the lazy dog .\n",
            "  Output: [1, 2, 4, 5, 6, 7, 1, 8, 9]\n",
            "Sequence 2 in x\n",
            "  Input:  By Jove , my quick study of lexicography won a prize .\n",
            "  Output: [10, 11, 12, 2, 13, 14, 15, 16, 3, 17]\n",
            "Sequence 3 in x\n",
            "  Input:  This is a short sentence .\n",
            "  Output: [18, 19, 3, 20, 21]\n"
          ],
          "name": "stdout"
        }
      ]
    },
    {
      "metadata": {
        "id": "0vHR5Pfg1Dz3",
        "colab_type": "text"
      },
      "cell_type": "markdown",
      "source": [
        "### Padding (IMPLEMENTATION)\n",
        "When batching the sequence of word ids together, each sequence needs to be the same length.  Since sentences are dynamic in length, we can add padding to the end of the sequences to make them the same length.\n",
        "\n",
        "Make sure all the English sequences have the same length and all the French sequences have the same length by adding padding to the **end** of each sequence using Keras's [`pad_sequences`](https://keras.io/preprocessing/sequence/#pad_sequences) function."
      ]
    },
    {
      "metadata": {
        "id": "jQUMUPab1Dz4",
        "colab_type": "code",
        "colab": {
          "base_uri": "https://localhost:8080/",
          "height": 170
        },
        "outputId": "6603e51f-f715-46f7-e04d-9e6b3e4175a3"
      },
      "cell_type": "code",
      "source": [
        "from keras.preprocessing.sequence import pad_sequences\n",
        "def pad(x, length=None):\n",
        "    \"\"\"\n",
        "    Pad x\n",
        "    :param x: List of sequences.\n",
        "    :param length: Length to pad the sequence to.  If None, use length of longest sequence in x.\n",
        "    :return: Padded numpy array of sequences\n",
        "    \"\"\"\n",
        "    # TODO: Implement\n",
        "    if not length:\n",
        "      length = max(len(seq) for seq in x)\n",
        "      \n",
        "    return pad_sequences(x, maxlen=length, dtype='int32', padding='post', \n",
        "                           truncating='post', value=0.0)\n",
        "tests.test_pad(pad)\n",
        "\n",
        "# Pad Tokenized output\n",
        "test_pad = pad(text_tokenized)\n",
        "for sample_i, (token_sent, pad_sent) in enumerate(zip(text_tokenized, test_pad)):\n",
        "    print('Sequence {} in x'.format(sample_i + 1))\n",
        "    print('  Input:  {}'.format(np.array(token_sent)))\n",
        "    print('  Output: {}'.format(pad_sent))"
      ],
      "execution_count": 14,
      "outputs": [
        {
          "output_type": "stream",
          "text": [
            "Sequence 1 in x\n",
            "  Input:  [1 2 4 5 6 7 1 8 9]\n",
            "  Output: [1 2 4 5 6 7 1 8 9 0]\n",
            "Sequence 2 in x\n",
            "  Input:  [10 11 12  2 13 14 15 16  3 17]\n",
            "  Output: [10 11 12  2 13 14 15 16  3 17]\n",
            "Sequence 3 in x\n",
            "  Input:  [18 19  3 20 21]\n",
            "  Output: [18 19  3 20 21  0  0  0  0  0]\n"
          ],
          "name": "stdout"
        }
      ]
    },
    {
      "metadata": {
        "id": "V3tbQUz91D0B",
        "colab_type": "text"
      },
      "cell_type": "markdown",
      "source": [
        "### Preprocess Pipeline\n",
        "Your focus for this project is to build neural network architecture, so we won't ask you to create a preprocess pipeline.  Instead, we've provided you with the implementation of the `preprocess` function."
      ]
    },
    {
      "metadata": {
        "id": "E45XEn6a1D0E",
        "colab_type": "code",
        "colab": {
          "base_uri": "https://localhost:8080/",
          "height": 102
        },
        "outputId": "a9aceb41-e5d5-46d3-fbc2-03d774400261"
      },
      "cell_type": "code",
      "source": [
        "def preprocess(x, y):\n",
        "    \"\"\"\n",
        "    Preprocess x and y\n",
        "    :param x: Feature List of sentences\n",
        "    :param y: Label List of sentences\n",
        "    :return: Tuple of (Preprocessed x, Preprocessed y, x tokenizer, y tokenizer)\n",
        "    \"\"\"\n",
        "    preprocess_x, x_tk = tokenize(x)\n",
        "    preprocess_y, y_tk = tokenize(y)\n",
        "\n",
        "    preprocess_x = pad(preprocess_x)\n",
        "    preprocess_y = pad(preprocess_y)\n",
        "\n",
        "    # Keras's sparse_categorical_crossentropy function requires the labels to be in 3 dimensions\n",
        "    preprocess_y = preprocess_y.reshape(*preprocess_y.shape, 1)\n",
        "\n",
        "    return preprocess_x, preprocess_y, x_tk, y_tk\n",
        "\n",
        "preproc_english_sentences, preproc_french_sentences, english_tokenizer, french_tokenizer =\\\n",
        "    preprocess(english_sentences, french_sentences)\n",
        "    \n",
        "max_english_sequence_length = preproc_english_sentences.shape[1]\n",
        "max_french_sequence_length = preproc_french_sentences.shape[1]\n",
        "english_vocab_size = len(english_tokenizer.word_index)\n",
        "french_vocab_size = len(french_tokenizer.word_index)\n",
        "\n",
        "print('Data Preprocessed')\n",
        "print(\"Max English sentence length:\", max_english_sequence_length)\n",
        "print(\"Max French sentence length:\", max_french_sequence_length)\n",
        "print(\"English vocabulary size:\", english_vocab_size)\n",
        "print(\"French vocabulary size:\", french_vocab_size)"
      ],
      "execution_count": 15,
      "outputs": [
        {
          "output_type": "stream",
          "text": [
            "Data Preprocessed\n",
            "Max English sentence length: 15\n",
            "Max French sentence length: 21\n",
            "English vocabulary size: 199\n",
            "French vocabulary size: 344\n"
          ],
          "name": "stdout"
        }
      ]
    },
    {
      "metadata": {
        "id": "dAxUYNX71D0M",
        "colab_type": "text"
      },
      "cell_type": "markdown",
      "source": [
        "## Models\n",
        "In this section, you will experiment with various neural network architectures.\n",
        "You will begin by training four relatively simple architectures.\n",
        "- Model 1 is a simple RNN\n",
        "- Model 2 is a RNN with Embedding\n",
        "- Model 3 is a Bidirectional RNN\n",
        "- Model 4 is an optional Encoder-Decoder RNN\n",
        "\n",
        "After experimenting with the four simple architectures, you will construct a deeper architecture that is designed to outperform all four models.\n",
        "### Ids Back to Text\n",
        "The neural network will be translating the input to words ids, which isn't the final form we want.  We want the French translation.  The function `logits_to_text` will bridge the gab between the logits from the neural network to the French translation.  You'll be using this function to better understand the output of the neural network."
      ]
    },
    {
      "metadata": {
        "id": "qh_CNt7a1D0M",
        "colab_type": "code",
        "colab": {
          "base_uri": "https://localhost:8080/",
          "height": 34
        },
        "outputId": "fae9f9f4-a3ac-4dc5-a5f0-b6e162455e41"
      },
      "cell_type": "code",
      "source": [
        "def logits_to_text(logits, tokenizer):\n",
        "    \"\"\"\n",
        "    Turn logits from a neural network into text using the tokenizer\n",
        "    :param logits: Logits from a neural network\n",
        "    :param tokenizer: Keras Tokenizer fit on the labels\n",
        "    :return: String that represents the text of the logits\n",
        "    \"\"\"\n",
        "    index_to_words = {id: word for word, id in tokenizer.word_index.items()}\n",
        "    index_to_words[0] = '<PAD>'\n",
        "\n",
        "    return ' '.join([index_to_words[prediction] for prediction in np.argmax(logits, 1)])\n",
        "\n",
        "print('`logits_to_text` function loaded.')"
      ],
      "execution_count": 159,
      "outputs": [
        {
          "output_type": "stream",
          "text": [
            "`logits_to_text` function loaded.\n"
          ],
          "name": "stdout"
        }
      ]
    },
    {
      "metadata": {
        "id": "1Zbb4N9M1D0N",
        "colab_type": "text"
      },
      "cell_type": "markdown",
      "source": [
        "### Model 1: RNN (IMPLEMENTATION)\n",
        "![RNN](https://raw.githubusercontent.com/udacity/aind2-nlp-capstone/master/images/rnn.png)\n",
        "\n",
        "A basic RNN model is a good baseline for sequence data.  In this model, you'll build a RNN that translates English to French."
      ]
    },
    {
      "metadata": {
        "id": "25JilFo6j8nP",
        "colab_type": "text"
      },
      "cell_type": "markdown",
      "source": [
        "#### GRU"
      ]
    },
    {
      "metadata": {
        "id": "3oRCoenckJrj",
        "colab_type": "code",
        "colab": {
          "base_uri": "https://localhost:8080/",
          "height": 1992
        },
        "outputId": "7460cb7a-aec2-4d55-cc31-1cf8a7263ef6"
      },
      "cell_type": "code",
      "source": [
        "def simple_model(input_shape, output_sequence_length, english_vocab_size, french_vocab_size):\n",
        "    \"\"\"\n",
        "    Build and train a basic RNN on x and y\n",
        "    :param input_shape: Tuple of input shape\n",
        "    :param output_sequence_length: Length of output sequence\n",
        "    :param english_vocab_size: Number of unique English words in the dataset\n",
        "    :param french_vocab_size: Number of unique French words in the dataset\n",
        "    :return: Keras model built, but not trained\n",
        "    \"\"\"\n",
        "    # TODO: Build the layers\n",
        "    model = Sequential()\n",
        "    model.add(GRU(200, input_shape=input_shape[1:], activation=\"tanh\", \n",
        "                   return_sequences=True))\n",
        "    model.add(TimeDistributed(Dense(french_vocab_size, activation=\"softmax\")))\n",
        "\n",
        "    learning_rate = 0.001\n",
        "    \n",
        "    model.compile(loss=sparse_categorical_crossentropy,\n",
        "                  optimizer=Adam(learning_rate),\n",
        "                  metrics=['accuracy'])\n",
        "    return model\n",
        "tests.test_simple_model(simple_model)\n",
        "\n",
        "# Reshaping the input to work with a basic RNN\n",
        "tmp_x = pad(preproc_english_sentences, max_french_sequence_length)\n",
        "tmp_x = tmp_x.reshape((-1, preproc_french_sentences.shape[-2], 1))\n",
        "\n",
        "# Train the neural network\n",
        "simple_rnn_model = simple_model(\n",
        "    tmp_x.shape,\n",
        "    max_french_sequence_length,\n",
        "    english_vocab_size,\n",
        "    french_vocab_size)\n",
        "print(simple_rnn_model.summary())\n",
        "h = simple_rnn_model.fit(tmp_x, preproc_french_sentences, batch_size=1024, \n",
        "                     epochs=NUM_EPOCHS, validation_split=0.2)\n",
        "# Print prediction(s)\n",
        "print(english_sentences[0])\n",
        "print(logits_to_text(simple_rnn_model.predict(tmp_x[:1])[0], french_tokenizer))"
      ],
      "execution_count": 160,
      "outputs": [
        {
          "output_type": "stream",
          "text": [
            "_________________________________________________________________\n",
            "Layer (type)                 Output Shape              Param #   \n",
            "=================================================================\n",
            "gru_13 (GRU)                 (None, 21, 200)           121200    \n",
            "_________________________________________________________________\n",
            "time_distributed_31 (TimeDis (None, 21, 344)           69144     \n",
            "=================================================================\n",
            "Total params: 190,344\n",
            "Trainable params: 190,344\n",
            "Non-trainable params: 0\n",
            "_________________________________________________________________\n",
            "None\n",
            "Train on 110288 samples, validate on 27573 samples\n",
            "Epoch 1/50\n",
            "110288/110288 [==============================] - 13s 117us/step - loss: 2.7118 - acc: 0.4661 - val_loss: nan - val_acc: 0.5475\n",
            "Epoch 2/50\n",
            "110288/110288 [==============================] - 9s 83us/step - loss: 1.7540 - acc: 0.5732 - val_loss: nan - val_acc: 0.5940\n",
            "Epoch 3/50\n",
            "110288/110288 [==============================] - 9s 83us/step - loss: 1.5089 - acc: 0.6054 - val_loss: nan - val_acc: 0.6165\n",
            "Epoch 4/50\n",
            "110288/110288 [==============================] - 9s 83us/step - loss: 1.3825 - acc: 0.6234 - val_loss: nan - val_acc: 0.6287\n",
            "Epoch 5/50\n",
            "110288/110288 [==============================] - 9s 83us/step - loss: 1.2930 - acc: 0.6359 - val_loss: nan - val_acc: 0.6415\n",
            "Epoch 6/50\n",
            "110288/110288 [==============================] - 9s 83us/step - loss: 1.2264 - acc: 0.6471 - val_loss: nan - val_acc: 0.6583\n",
            "Epoch 7/50\n",
            "110288/110288 [==============================] - 9s 83us/step - loss: 1.1770 - acc: 0.6568 - val_loss: nan - val_acc: 0.6598\n",
            "Epoch 8/50\n",
            "110288/110288 [==============================] - 9s 83us/step - loss: 1.1368 - acc: 0.6622 - val_loss: nan - val_acc: 0.6620\n",
            "Epoch 9/50\n",
            "110288/110288 [==============================] - 9s 83us/step - loss: 1.1029 - acc: 0.6670 - val_loss: nan - val_acc: 0.6684\n",
            "Epoch 10/50\n",
            "110288/110288 [==============================] - 9s 84us/step - loss: 1.0741 - acc: 0.6707 - val_loss: nan - val_acc: 0.6717\n",
            "Epoch 11/50\n",
            "110288/110288 [==============================] - 9s 83us/step - loss: 1.0498 - acc: 0.6736 - val_loss: nan - val_acc: 0.6734\n",
            "Epoch 12/50\n",
            "110288/110288 [==============================] - 9s 83us/step - loss: 1.0264 - acc: 0.6783 - val_loss: nan - val_acc: 0.6744\n",
            "Epoch 13/50\n",
            "110288/110288 [==============================] - 9s 83us/step - loss: 1.0061 - acc: 0.6809 - val_loss: nan - val_acc: 0.6828\n",
            "Epoch 14/50\n",
            "110288/110288 [==============================] - 9s 83us/step - loss: 0.9838 - acc: 0.6858 - val_loss: nan - val_acc: 0.6845\n",
            "Epoch 15/50\n",
            "110288/110288 [==============================] - 9s 83us/step - loss: 0.9663 - acc: 0.6896 - val_loss: nan - val_acc: 0.6892\n",
            "Epoch 16/50\n",
            "110288/110288 [==============================] - 9s 84us/step - loss: 0.9442 - acc: 0.6951 - val_loss: nan - val_acc: 0.6885\n",
            "Epoch 17/50\n",
            "110288/110288 [==============================] - 9s 84us/step - loss: 0.9292 - acc: 0.7002 - val_loss: nan - val_acc: 0.7064\n",
            "Epoch 18/50\n",
            "110288/110288 [==============================] - 9s 83us/step - loss: 0.9097 - acc: 0.7066 - val_loss: nan - val_acc: 0.7128\n",
            "Epoch 19/50\n",
            "110288/110288 [==============================] - 9s 84us/step - loss: 0.8915 - acc: 0.7128 - val_loss: nan - val_acc: 0.7185\n",
            "Epoch 20/50\n",
            "110288/110288 [==============================] - 9s 84us/step - loss: 0.8689 - acc: 0.7227 - val_loss: nan - val_acc: 0.7267\n",
            "Epoch 21/50\n",
            "110288/110288 [==============================] - 9s 84us/step - loss: 0.8559 - acc: 0.7277 - val_loss: nan - val_acc: 0.7364\n",
            "Epoch 22/50\n",
            "110288/110288 [==============================] - 9s 84us/step - loss: 0.8394 - acc: 0.7341 - val_loss: nan - val_acc: 0.7365\n",
            "Epoch 23/50\n",
            "110288/110288 [==============================] - 9s 84us/step - loss: 0.8264 - acc: 0.7389 - val_loss: nan - val_acc: 0.7423\n",
            "Epoch 24/50\n",
            "110288/110288 [==============================] - 9s 84us/step - loss: 0.8116 - acc: 0.7447 - val_loss: nan - val_acc: 0.7489\n",
            "Epoch 25/50\n",
            "110288/110288 [==============================] - 9s 83us/step - loss: 0.8012 - acc: 0.7484 - val_loss: nan - val_acc: 0.7483\n",
            "Epoch 26/50\n",
            "110288/110288 [==============================] - 9s 83us/step - loss: 0.7887 - acc: 0.7541 - val_loss: nan - val_acc: 0.7541\n",
            "Epoch 27/50\n",
            "110288/110288 [==============================] - 9s 83us/step - loss: 0.7754 - acc: 0.7592 - val_loss: nan - val_acc: 0.7622\n",
            "Epoch 28/50\n",
            "110288/110288 [==============================] - 9s 83us/step - loss: 0.7676 - acc: 0.7619 - val_loss: nan - val_acc: 0.7621\n",
            "Epoch 29/50\n",
            "110288/110288 [==============================] - 9s 84us/step - loss: 0.7608 - acc: 0.7652 - val_loss: nan - val_acc: 0.7673\n",
            "Epoch 30/50\n",
            "110288/110288 [==============================] - 9s 83us/step - loss: 0.7460 - acc: 0.7709 - val_loss: nan - val_acc: 0.7721\n",
            "Epoch 31/50\n",
            "110288/110288 [==============================] - 9s 84us/step - loss: 0.7375 - acc: 0.7740 - val_loss: nan - val_acc: 0.7804\n",
            "Epoch 32/50\n",
            "110288/110288 [==============================] - 9s 84us/step - loss: 0.7268 - acc: 0.7780 - val_loss: nan - val_acc: 0.7789\n",
            "Epoch 33/50\n",
            "110288/110288 [==============================] - 9s 83us/step - loss: 0.7219 - acc: 0.7801 - val_loss: nan - val_acc: 0.7762\n",
            "Epoch 34/50\n",
            "110288/110288 [==============================] - 9s 83us/step - loss: 0.7141 - acc: 0.7833 - val_loss: nan - val_acc: 0.7909\n",
            "Epoch 35/50\n",
            "110288/110288 [==============================] - 9s 83us/step - loss: 0.7073 - acc: 0.7847 - val_loss: nan - val_acc: 0.7872\n",
            "Epoch 36/50\n",
            "110288/110288 [==============================] - 9s 83us/step - loss: 0.6977 - acc: 0.7893 - val_loss: nan - val_acc: 0.7904\n",
            "Epoch 37/50\n",
            "110288/110288 [==============================] - 9s 84us/step - loss: 0.6898 - acc: 0.7925 - val_loss: nan - val_acc: 0.7937\n",
            "Epoch 38/50\n",
            "110288/110288 [==============================] - 9s 83us/step - loss: 0.6842 - acc: 0.7938 - val_loss: nan - val_acc: 0.7866\n",
            "Epoch 39/50\n",
            "110288/110288 [==============================] - 9s 83us/step - loss: 0.6779 - acc: 0.7958 - val_loss: nan - val_acc: 0.7959\n",
            "Epoch 40/50\n",
            "110288/110288 [==============================] - 9s 83us/step - loss: 0.6741 - acc: 0.7961 - val_loss: nan - val_acc: 0.7968\n",
            "Epoch 41/50\n",
            "110288/110288 [==============================] - 9s 83us/step - loss: 0.6652 - acc: 0.8001 - val_loss: nan - val_acc: 0.8025\n",
            "Epoch 42/50\n",
            "110288/110288 [==============================] - 9s 83us/step - loss: 0.6611 - acc: 0.8006 - val_loss: nan - val_acc: 0.7992\n",
            "Epoch 43/50\n",
            "110288/110288 [==============================] - 9s 83us/step - loss: 0.6544 - acc: 0.8025 - val_loss: nan - val_acc: 0.7981\n",
            "Epoch 44/50\n",
            "110288/110288 [==============================] - 9s 83us/step - loss: 0.6521 - acc: 0.8035 - val_loss: nan - val_acc: 0.8002\n",
            "Epoch 45/50\n",
            "110288/110288 [==============================] - 9s 83us/step - loss: 0.6440 - acc: 0.8059 - val_loss: nan - val_acc: 0.8066\n",
            "Epoch 46/50\n",
            "110288/110288 [==============================] - 9s 83us/step - loss: 0.6386 - acc: 0.8073 - val_loss: nan - val_acc: 0.8127\n",
            "Epoch 47/50\n",
            "110288/110288 [==============================] - 9s 83us/step - loss: 0.6371 - acc: 0.8075 - val_loss: nan - val_acc: 0.8100\n",
            "Epoch 48/50\n",
            "110288/110288 [==============================] - 9s 83us/step - loss: 0.6293 - acc: 0.8102 - val_loss: nan - val_acc: 0.8111\n",
            "Epoch 49/50\n",
            "110288/110288 [==============================] - 9s 83us/step - loss: 0.6280 - acc: 0.8099 - val_loss: nan - val_acc: 0.8121\n",
            "Epoch 50/50\n",
            "110288/110288 [==============================] - 9s 83us/step - loss: 0.6207 - acc: 0.8129 - val_loss: nan - val_acc: 0.8124\n",
            "new jersey is sometimes quiet during autumn , and it is snowy in april .\n",
            "new jersey est parfois calme en l' de il est est en avril <PAD> <PAD> <PAD> <PAD> <PAD> <PAD> <PAD> <PAD>\n"
          ],
          "name": "stdout"
        }
      ]
    },
    {
      "metadata": {
        "id": "q-5_Kw9Y6ijA",
        "colab_type": "code",
        "colab": {
          "base_uri": "https://localhost:8080/",
          "height": 431
        },
        "outputId": "8ade540c-e66c-4ed2-fbd9-b060ac08c139"
      },
      "cell_type": "code",
      "source": [
        "plot_training_history(h,'Model 1: GRU')"
      ],
      "execution_count": 161,
      "outputs": [
        {
          "output_type": "display_data",
          "data": {
            "image/png": "[encoded data removed]",
            "text/plain": [
              "<matplotlib.figure.Figure at 0x7f4ffd7dde48>"
            ]
          },
          "metadata": {
            "tags": []
          }
        }
      ]
    },
    {
      "metadata": {
        "id": "ByuDfriQkEYA",
        "colab_type": "text"
      },
      "cell_type": "markdown",
      "source": [
        "#### SimpleRNN"
      ]
    },
    {
      "metadata": {
        "id": "j1h8I2Hm1D0N",
        "colab_type": "code",
        "colab": {
          "base_uri": "https://localhost:8080/",
          "height": 1992
        },
        "outputId": "f6c4af98-c649-4e07-c350-ef8492ca7af3"
      },
      "cell_type": "code",
      "source": [
        "def simple_model(input_shape, output_sequence_length, english_vocab_size, french_vocab_size):\n",
        "    \"\"\"\n",
        "    Build and train a basic RNN on x and y\n",
        "    :param input_shape: Tuple of input shape\n",
        "    :param output_sequence_length: Length of output sequence\n",
        "    :param english_vocab_size: Number of unique English words in the dataset\n",
        "    :param french_vocab_size: Number of unique French words in the dataset\n",
        "    :return: Keras model built, but not trained\n",
        "    \"\"\"\n",
        "    # TODO: Build the layers\n",
        "    model = Sequential()\n",
        "    model.add(SimpleRNN(300, input_shape=input_shape[1:], activation = \"tanh\", \n",
        "                        #dropout=0.15, recurrent_dropout=0.1,\n",
        "                        return_sequences=True))\n",
        "    model.add(TimeDistributed(Dense(french_vocab_size, activation = \"softmax\")))\n",
        "              \n",
        "    learning_rate = 0.001\n",
        "    \n",
        "    model.compile(loss=sparse_categorical_crossentropy,\n",
        "                  optimizer=Adam(learning_rate),\n",
        "                  metrics=['accuracy'])\n",
        "    return model\n",
        "tests.test_simple_model(simple_model)\n",
        "\n",
        "# Reshaping the input to work with a basic RNN\n",
        "tmp_x = pad(preproc_english_sentences, max_french_sequence_length)\n",
        "tmp_x = tmp_x.reshape((-1, preproc_french_sentences.shape[-2], 1))\n",
        "\n",
        "# Train the neural network\n",
        "simple_rnn_model = simple_model(\n",
        "    tmp_x.shape,\n",
        "    max_french_sequence_length,\n",
        "    english_vocab_size,\n",
        "    french_vocab_size)\n",
        "print(simple_rnn_model.summary())\n",
        "h = simple_rnn_model.fit(tmp_x, preproc_french_sentences, batch_size=1024, \n",
        "                     epochs=NUM_EPOCHS, validation_split=0.2)\n",
        "\n",
        "# Print prediction(s)\n",
        "print(english_sentences[0])\n",
        "print(logits_to_text(simple_rnn_model.predict(tmp_x[:1])[0], french_tokenizer))"
      ],
      "execution_count": 168,
      "outputs": [
        {
          "output_type": "stream",
          "text": [
            "_________________________________________________________________\n",
            "Layer (type)                 Output Shape              Param #   \n",
            "=================================================================\n",
            "simple_rnn_15 (SimpleRNN)    (None, 21, 300)           90600     \n",
            "_________________________________________________________________\n",
            "time_distributed_41 (TimeDis (None, 21, 344)           103544    \n",
            "=================================================================\n",
            "Total params: 194,144\n",
            "Trainable params: 194,144\n",
            "Non-trainable params: 0\n",
            "_________________________________________________________________\n",
            "None\n",
            "Train on 110288 samples, validate on 27573 samples\n",
            "Epoch 1/50\n",
            "110288/110288 [==============================] - 10s 89us/step - loss: 2.3835 - acc: 0.5014 - val_loss: nan - val_acc: 0.5724\n",
            "Epoch 2/50\n",
            "110288/110288 [==============================] - 6s 53us/step - loss: 1.6090 - acc: 0.5912 - val_loss: nan - val_acc: 0.6043\n",
            "Epoch 3/50\n",
            "110288/110288 [==============================] - 6s 52us/step - loss: 1.4171 - acc: 0.6144 - val_loss: nan - val_acc: 0.6242\n",
            "Epoch 4/50\n",
            "110288/110288 [==============================] - 6s 52us/step - loss: 1.3119 - acc: 0.6337 - val_loss: nan - val_acc: 0.6459\n",
            "Epoch 5/50\n",
            "110288/110288 [==============================] - 6s 52us/step - loss: 1.2422 - acc: 0.6458 - val_loss: nan - val_acc: 0.6493\n",
            "Epoch 6/50\n",
            "110288/110288 [==============================] - 6s 53us/step - loss: 1.1905 - acc: 0.6558 - val_loss: nan - val_acc: 0.6597\n",
            "Epoch 7/50\n",
            "110288/110288 [==============================] - 6s 53us/step - loss: 1.1534 - acc: 0.6617 - val_loss: nan - val_acc: 0.6624\n",
            "Epoch 8/50\n",
            "110288/110288 [==============================] - 6s 53us/step - loss: 1.1212 - acc: 0.6669 - val_loss: nan - val_acc: 0.6680\n",
            "Epoch 9/50\n",
            "110288/110288 [==============================] - 6s 52us/step - loss: 1.0956 - acc: 0.6700 - val_loss: nan - val_acc: 0.6676\n",
            "Epoch 10/50\n",
            "110288/110288 [==============================] - 6s 52us/step - loss: 1.0701 - acc: 0.6732 - val_loss: nan - val_acc: 0.6719\n",
            "Epoch 11/50\n",
            "110288/110288 [==============================] - 6s 53us/step - loss: 1.0466 - acc: 0.6767 - val_loss: nan - val_acc: 0.6789\n",
            "Epoch 12/50\n",
            "110288/110288 [==============================] - 6s 52us/step - loss: 1.0279 - acc: 0.6786 - val_loss: nan - val_acc: 0.6797\n",
            "Epoch 13/50\n",
            "110288/110288 [==============================] - 6s 53us/step - loss: 1.0077 - acc: 0.6816 - val_loss: nan - val_acc: 0.6749\n",
            "Epoch 14/50\n",
            "110288/110288 [==============================] - 6s 53us/step - loss: 0.9914 - acc: 0.6838 - val_loss: nan - val_acc: 0.6786\n",
            "Epoch 15/50\n",
            "110288/110288 [==============================] - 6s 53us/step - loss: 0.9776 - acc: 0.6860 - val_loss: nan - val_acc: 0.6861\n",
            "Epoch 16/50\n",
            "110288/110288 [==============================] - 6s 53us/step - loss: 0.9622 - acc: 0.6879 - val_loss: nan - val_acc: 0.6851\n",
            "Epoch 17/50\n",
            "110288/110288 [==============================] - 6s 53us/step - loss: 0.9502 - acc: 0.6902 - val_loss: nan - val_acc: 0.6939\n",
            "Epoch 18/50\n",
            "110288/110288 [==============================] - 6s 53us/step - loss: 0.9392 - acc: 0.6914 - val_loss: nan - val_acc: 0.6835\n",
            "Epoch 19/50\n",
            "110288/110288 [==============================] - 6s 52us/step - loss: 0.9288 - acc: 0.6940 - val_loss: nan - val_acc: 0.6933\n",
            "Epoch 20/50\n",
            "110288/110288 [==============================] - 6s 52us/step - loss: 0.9167 - acc: 0.6963 - val_loss: nan - val_acc: 0.6972\n",
            "Epoch 21/50\n",
            "110288/110288 [==============================] - 6s 54us/step - loss: 0.9085 - acc: 0.6974 - val_loss: nan - val_acc: 0.7064\n",
            "Epoch 22/50\n",
            "110288/110288 [==============================] - 6s 54us/step - loss: 0.8981 - acc: 0.7006 - val_loss: nan - val_acc: 0.7005\n",
            "Epoch 23/50\n",
            "110288/110288 [==============================] - 6s 52us/step - loss: 0.8876 - acc: 0.7031 - val_loss: nan - val_acc: 0.7012\n",
            "Epoch 24/50\n",
            "110288/110288 [==============================] - 6s 52us/step - loss: 0.8801 - acc: 0.7040 - val_loss: nan - val_acc: 0.7038\n",
            "Epoch 25/50\n",
            "110288/110288 [==============================] - 6s 53us/step - loss: 0.8693 - acc: 0.7084 - val_loss: nan - val_acc: 0.6983\n",
            "Epoch 26/50\n",
            "110288/110288 [==============================] - 6s 53us/step - loss: 0.8574 - acc: 0.7109 - val_loss: nan - val_acc: 0.7158\n",
            "Epoch 27/50\n",
            "110288/110288 [==============================] - 6s 53us/step - loss: 0.8432 - acc: 0.7170 - val_loss: nan - val_acc: 0.7155\n",
            "Epoch 28/50\n",
            "110288/110288 [==============================] - 6s 52us/step - loss: 0.8527 - acc: 0.7116 - val_loss: nan - val_acc: 0.7174\n",
            "Epoch 29/50\n",
            "110288/110288 [==============================] - 6s 53us/step - loss: 0.8368 - acc: 0.7170 - val_loss: nan - val_acc: 0.7255\n",
            "Epoch 30/50\n",
            "110288/110288 [==============================] - 6s 52us/step - loss: 0.8206 - acc: 0.7240 - val_loss: nan - val_acc: 0.7244\n",
            "Epoch 31/50\n",
            "110288/110288 [==============================] - 6s 53us/step - loss: 0.8108 - acc: 0.7287 - val_loss: nan - val_acc: 0.7356\n",
            "Epoch 32/50\n",
            "110288/110288 [==============================] - 6s 53us/step - loss: 0.7986 - acc: 0.7349 - val_loss: nan - val_acc: 0.7424\n",
            "Epoch 33/50\n",
            "110288/110288 [==============================] - 6s 52us/step - loss: 0.7886 - acc: 0.7400 - val_loss: nan - val_acc: 0.7386\n",
            "Epoch 34/50\n",
            "110288/110288 [==============================] - 6s 52us/step - loss: 0.7731 - acc: 0.7472 - val_loss: nan - val_acc: 0.7482\n",
            "Epoch 35/50\n",
            "110288/110288 [==============================] - 6s 53us/step - loss: 0.7730 - acc: 0.7475 - val_loss: nan - val_acc: 0.7421\n",
            "Epoch 36/50\n",
            "110288/110288 [==============================] - 6s 53us/step - loss: 0.7520 - acc: 0.7572 - val_loss: nan - val_acc: 0.7602\n",
            "Epoch 37/50\n",
            "110288/110288 [==============================] - 6s 53us/step - loss: 0.7405 - acc: 0.7618 - val_loss: nan - val_acc: 0.7613\n",
            "Epoch 38/50\n",
            "110288/110288 [==============================] - 6s 53us/step - loss: 0.7300 - acc: 0.7668 - val_loss: nan - val_acc: 0.7607\n",
            "Epoch 39/50\n",
            "110288/110288 [==============================] - 6s 52us/step - loss: 0.7248 - acc: 0.7675 - val_loss: nan - val_acc: 0.7693\n",
            "Epoch 40/50\n",
            "110288/110288 [==============================] - 6s 52us/step - loss: 0.7184 - acc: 0.7701 - val_loss: nan - val_acc: 0.7711\n",
            "Epoch 41/50\n",
            "110288/110288 [==============================] - 6s 52us/step - loss: 0.7072 - acc: 0.7739 - val_loss: nan - val_acc: 0.7744\n",
            "Epoch 42/50\n",
            "110288/110288 [==============================] - 6s 52us/step - loss: 0.7027 - acc: 0.7752 - val_loss: nan - val_acc: 0.7726\n",
            "Epoch 43/50\n",
            "110288/110288 [==============================] - 6s 53us/step - loss: 0.6958 - acc: 0.7785 - val_loss: nan - val_acc: 0.7775\n",
            "Epoch 44/50\n",
            "110288/110288 [==============================] - 6s 52us/step - loss: 0.6917 - acc: 0.7788 - val_loss: nan - val_acc: 0.7820\n",
            "Epoch 45/50\n",
            "110288/110288 [==============================] - 6s 52us/step - loss: 0.6829 - acc: 0.7828 - val_loss: nan - val_acc: 0.7788\n",
            "Epoch 46/50\n",
            "110288/110288 [==============================] - 6s 52us/step - loss: 0.6788 - acc: 0.7827 - val_loss: nan - val_acc: 0.7879\n",
            "Epoch 47/50\n",
            "110288/110288 [==============================] - 6s 52us/step - loss: 0.6707 - acc: 0.7870 - val_loss: nan - val_acc: 0.7882\n",
            "Epoch 48/50\n",
            "110288/110288 [==============================] - 6s 52us/step - loss: 0.6671 - acc: 0.7883 - val_loss: nan - val_acc: 0.7789\n",
            "Epoch 49/50\n",
            "110288/110288 [==============================] - 6s 53us/step - loss: 0.6627 - acc: 0.7888 - val_loss: nan - val_acc: 0.7854\n",
            "Epoch 50/50\n",
            "110288/110288 [==============================] - 6s 53us/step - loss: 0.6580 - acc: 0.7902 - val_loss: nan - val_acc: 0.7845\n",
            "new jersey is sometimes quiet during autumn , and it is snowy in april .\n",
            "new jersey est parfois calme en mois de l' automne et il est en <PAD> <PAD> <PAD> <PAD> <PAD> <PAD> <PAD>\n"
          ],
          "name": "stdout"
        }
      ]
    },
    {
      "metadata": {
        "id": "Np4DmRRuobxy",
        "colab_type": "code",
        "colab": {
          "base_uri": "https://localhost:8080/",
          "height": 431
        },
        "outputId": "7f8811a3-4137-406a-f87b-686ee0528488"
      },
      "cell_type": "code",
      "source": [
        "plot_training_history(h,'Model 1: SimpleRNN')"
      ],
      "execution_count": 169,
      "outputs": [
        {
          "output_type": "display_data",
          "data": {
            "image/png": "[encoded data removed]",
            "text/plain": [
              "<matplotlib.figure.Figure at 0x7f4fe80ffe48>"
            ]
          },
          "metadata": {
            "tags": []
          }
        }
      ]
    },
    {
      "metadata": {
        "id": "_PsIIEgi1D0O",
        "colab_type": "text"
      },
      "cell_type": "markdown",
      "source": [
        "### Model 2: Embedding (IMPLEMENTATION)\n",
        "![RNN](https://github.com/udacity/aind2-nlp-capstone/raw/master/images/embedding.png)\n",
        "\n",
        "You've turned the words into ids, but there's a better representation of a word.  This is called word embeddings.  An embedding is a vector representation of the word that is close to similar words in n-dimensional space, where the n represents the size of the embedding vectors.\n",
        "\n",
        "In this model, you'll create a RNN model using embedding."
      ]
    },
    {
      "metadata": {
        "id": "Qh-JzHhHRw31",
        "colab_type": "text"
      },
      "cell_type": "markdown",
      "source": [
        "#### Output Dim = 10, GRU(200)"
      ]
    },
    {
      "metadata": {
        "id": "b6DWq8ut1D0Q",
        "colab_type": "code",
        "colab": {
          "base_uri": "https://localhost:8080/",
          "height": 2026
        },
        "outputId": "563388f1-4e58-4671-e593-f8aaa303770d"
      },
      "cell_type": "code",
      "source": [
        "def embed_model(input_shape, output_sequence_length, english_vocab_size, french_vocab_size):\n",
        "    \"\"\"\n",
        "    Build and train a RNN model using word embedding on x and y\n",
        "    :param input_shape: Tuple of input shape\n",
        "    :param output_sequence_length: Length of output sequence\n",
        "    :param english_vocab_size: Number of unique English words in the dataset\n",
        "    :param french_vocab_size: Number of unique French words in the dataset\n",
        "    :return: Keras model built, but not trained\n",
        "    \"\"\"\n",
        "    # TODO: Implement\n",
        "    model = Sequential()\n",
        "    output_dim = 10\n",
        "    model.add(Embedding(input_dim=len(english_words_counter), \n",
        "                        output_dim=output_dim,\n",
        "                        input_length=input_shape[1]))\n",
        "    model.add(GRU(200, activation=\"tanh\",\n",
        "                 # dropout=0.2, recurrent_dropout=0.2,\n",
        "                 return_sequences=True))\n",
        "    model.add(TimeDistributed(Dense(french_vocab_size, activation = \"softmax\")))\n",
        "    \n",
        "    learning_rate = 0.001\n",
        "    \n",
        "    model.compile(loss=sparse_categorical_crossentropy,\n",
        "                  optimizer=Adam(learning_rate),\n",
        "                  metrics=['accuracy'])        \n",
        "    return model\n",
        "  \n",
        "tests.test_embed_model(embed_model)\n",
        "\n",
        "\n",
        "# TODO: Reshape the input\n",
        "tmp_x = pad(preproc_english_sentences, max_french_sequence_length)\n",
        "#tmp_x = tmp_x.reshape((-1, preproc_french_sentences.shape[-2], 1))\n",
        "\n",
        "# TODO: Train the neural network\n",
        "my_embed_model = embed_model(\n",
        "    tmp_x.shape,\n",
        "    max_french_sequence_length,\n",
        "    english_vocab_size,\n",
        "    french_vocab_size)\n",
        "print(my_embed_model.summary())\n",
        "\n",
        "h = my_embed_model.fit(tmp_x, preproc_french_sentences, batch_size=1024, \n",
        "                       epochs=NUM_EPOCHS, validation_split=0.2)\n",
        "\n",
        "# TODO: Print prediction(s)\n",
        "print(english_sentences[0])\n",
        "print(logits_to_text(my_embed_model.predict(tmp_x[:1])[0], french_tokenizer))"
      ],
      "execution_count": 170,
      "outputs": [
        {
          "output_type": "stream",
          "text": [
            "_________________________________________________________________\n",
            "Layer (type)                 Output Shape              Param #   \n",
            "=================================================================\n",
            "embedding_22 (Embedding)     (None, 21, 10)            2270      \n",
            "_________________________________________________________________\n",
            "gru_17 (GRU)                 (None, 21, 200)           126600    \n",
            "_________________________________________________________________\n",
            "time_distributed_43 (TimeDis (None, 21, 344)           69144     \n",
            "=================================================================\n",
            "Total params: 198,014\n",
            "Trainable params: 198,014\n",
            "Non-trainable params: 0\n",
            "_________________________________________________________________\n",
            "None\n",
            "Train on 110288 samples, validate on 27573 samples\n",
            "Epoch 1/50\n",
            "110288/110288 [==============================] - 15s 132us/step - loss: 3.4624 - acc: 0.4029 - val_loss: nan - val_acc: 0.4095\n",
            "Epoch 2/50\n",
            "110288/110288 [==============================] - 10s 91us/step - loss: 2.6380 - acc: 0.4617 - val_loss: nan - val_acc: 0.4860\n",
            "Epoch 3/50\n",
            "110288/110288 [==============================] - 10s 91us/step - loss: 2.2943 - acc: 0.5088 - val_loss: nan - val_acc: 0.5365\n",
            "Epoch 4/50\n",
            "110288/110288 [==============================] - 10s 91us/step - loss: 1.9053 - acc: 0.5565 - val_loss: nan - val_acc: 0.5752\n",
            "Epoch 5/50\n",
            "110288/110288 [==============================] - 10s 91us/step - loss: 1.6218 - acc: 0.5954 - val_loss: nan - val_acc: 0.6182\n",
            "Epoch 6/50\n",
            "110288/110288 [==============================] - 10s 91us/step - loss: 1.4246 - acc: 0.6378 - val_loss: nan - val_acc: 0.6563\n",
            "Epoch 7/50\n",
            "110288/110288 [==============================] - 10s 91us/step - loss: 1.2557 - acc: 0.6755 - val_loss: nan - val_acc: 0.6975\n",
            "Epoch 8/50\n",
            "110288/110288 [==============================] - 10s 91us/step - loss: 1.1144 - acc: 0.7123 - val_loss: nan - val_acc: 0.7286\n",
            "Epoch 9/50\n",
            "110288/110288 [==============================] - 10s 91us/step - loss: 0.9852 - acc: 0.7466 - val_loss: nan - val_acc: 0.7638\n",
            "Epoch 10/50\n",
            "110288/110288 [==============================] - 10s 91us/step - loss: 0.8628 - acc: 0.7747 - val_loss: nan - val_acc: 0.7880\n",
            "Epoch 11/50\n",
            "110288/110288 [==============================] - 10s 91us/step - loss: 0.7605 - acc: 0.7990 - val_loss: nan - val_acc: 0.8094\n",
            "Epoch 12/50\n",
            "110288/110288 [==============================] - 10s 91us/step - loss: 0.6715 - acc: 0.8192 - val_loss: nan - val_acc: 0.8286\n",
            "Epoch 13/50\n",
            "110288/110288 [==============================] - 10s 91us/step - loss: 0.5972 - acc: 0.8371 - val_loss: nan - val_acc: 0.8455\n",
            "Epoch 14/50\n",
            "110288/110288 [==============================] - 10s 91us/step - loss: 0.5375 - acc: 0.8514 - val_loss: nan - val_acc: 0.8554\n",
            "Epoch 15/50\n",
            "110288/110288 [==============================] - 10s 91us/step - loss: 0.4913 - acc: 0.8621 - val_loss: nan - val_acc: 0.8658\n",
            "Epoch 16/50\n",
            "110288/110288 [==============================] - 10s 91us/step - loss: 0.4561 - acc: 0.8704 - val_loss: nan - val_acc: 0.8754\n",
            "Epoch 17/50\n",
            "110288/110288 [==============================] - 10s 92us/step - loss: 0.4249 - acc: 0.8779 - val_loss: nan - val_acc: 0.8812\n",
            "Epoch 18/50\n",
            "110288/110288 [==============================] - 10s 91us/step - loss: 0.3989 - acc: 0.8837 - val_loss: nan - val_acc: 0.8853\n",
            "Epoch 19/50\n",
            "110288/110288 [==============================] - 10s 91us/step - loss: 0.3771 - acc: 0.8887 - val_loss: nan - val_acc: 0.8909\n",
            "Epoch 20/50\n",
            "110288/110288 [==============================] - 10s 91us/step - loss: 0.3596 - acc: 0.8926 - val_loss: nan - val_acc: 0.8932\n",
            "Epoch 21/50\n",
            "110288/110288 [==============================] - 10s 92us/step - loss: 0.3433 - acc: 0.8965 - val_loss: nan - val_acc: 0.8968\n",
            "Epoch 22/50\n",
            "110288/110288 [==============================] - 10s 91us/step - loss: 0.3290 - acc: 0.9000 - val_loss: nan - val_acc: 0.9012\n",
            "Epoch 23/50\n",
            "110288/110288 [==============================] - 10s 92us/step - loss: 0.3206 - acc: 0.9016 - val_loss: nan - val_acc: 0.9000\n",
            "Epoch 24/50\n",
            "110288/110288 [==============================] - 10s 91us/step - loss: 0.3069 - acc: 0.9055 - val_loss: nan - val_acc: 0.9065\n",
            "Epoch 25/50\n",
            "110288/110288 [==============================] - 10s 92us/step - loss: 0.2976 - acc: 0.9078 - val_loss: nan - val_acc: 0.9084\n",
            "Epoch 26/50\n",
            "110288/110288 [==============================] - 10s 91us/step - loss: 0.2891 - acc: 0.9096 - val_loss: nan - val_acc: 0.9099\n",
            "Epoch 27/50\n",
            "110288/110288 [==============================] - 10s 91us/step - loss: 0.2810 - acc: 0.9117 - val_loss: nan - val_acc: 0.9106\n",
            "Epoch 28/50\n",
            "110288/110288 [==============================] - 10s 91us/step - loss: 0.2749 - acc: 0.9133 - val_loss: nan - val_acc: 0.9131\n",
            "Epoch 29/50\n",
            "110288/110288 [==============================] - 10s 92us/step - loss: 0.2672 - acc: 0.9150 - val_loss: nan - val_acc: 0.9117\n",
            "Epoch 30/50\n",
            "110288/110288 [==============================] - 10s 92us/step - loss: 0.2622 - acc: 0.9160 - val_loss: nan - val_acc: 0.9149\n",
            "Epoch 31/50\n",
            "110288/110288 [==============================] - 10s 91us/step - loss: 0.2548 - acc: 0.9181 - val_loss: nan - val_acc: 0.9173\n",
            "Epoch 32/50\n",
            "110288/110288 [==============================] - 10s 91us/step - loss: 0.2496 - acc: 0.9195 - val_loss: nan - val_acc: 0.9177\n",
            "Epoch 33/50\n",
            "110288/110288 [==============================] - 10s 92us/step - loss: 0.2459 - acc: 0.9203 - val_loss: nan - val_acc: 0.9190\n",
            "Epoch 34/50\n",
            "110288/110288 [==============================] - 10s 92us/step - loss: 0.2409 - acc: 0.9218 - val_loss: nan - val_acc: 0.9194\n",
            "Epoch 35/50\n",
            "110288/110288 [==============================] - 10s 91us/step - loss: 0.2360 - acc: 0.9230 - val_loss: nan - val_acc: 0.9213\n",
            "Epoch 36/50\n",
            "110288/110288 [==============================] - 10s 91us/step - loss: 0.2318 - acc: 0.9242 - val_loss: nan - val_acc: 0.9215\n",
            "Epoch 37/50\n",
            "110288/110288 [==============================] - 10s 92us/step - loss: 0.2285 - acc: 0.9250 - val_loss: nan - val_acc: 0.9238\n",
            "Epoch 38/50\n",
            "110288/110288 [==============================] - 10s 92us/step - loss: 0.2252 - acc: 0.9259 - val_loss: nan - val_acc: 0.9246\n",
            "Epoch 39/50\n",
            "110288/110288 [==============================] - 10s 92us/step - loss: 0.2238 - acc: 0.9262 - val_loss: nan - val_acc: 0.9248\n",
            "Epoch 40/50\n",
            "110288/110288 [==============================] - 10s 92us/step - loss: 0.2174 - acc: 0.9281 - val_loss: nan - val_acc: 0.9253\n",
            "Epoch 41/50\n",
            "110288/110288 [==============================] - 10s 92us/step - loss: 0.2180 - acc: 0.9277 - val_loss: nan - val_acc: 0.9271\n",
            "Epoch 42/50\n",
            "110288/110288 [==============================] - 10s 91us/step - loss: 0.2128 - acc: 0.9293 - val_loss: nan - val_acc: 0.9267\n",
            "Epoch 43/50\n",
            "110288/110288 [==============================] - 10s 92us/step - loss: 0.2101 - acc: 0.9300 - val_loss: nan - val_acc: 0.9281\n",
            "Epoch 44/50\n",
            "110288/110288 [==============================] - 10s 91us/step - loss: 0.2102 - acc: 0.9298 - val_loss: nan - val_acc: 0.9269\n",
            "Epoch 45/50\n",
            "110288/110288 [==============================] - 10s 92us/step - loss: 0.2065 - acc: 0.9309 - val_loss: nan - val_acc: 0.9288\n",
            "Epoch 46/50\n",
            "110288/110288 [==============================] - 10s 91us/step - loss: 0.2061 - acc: 0.9309 - val_loss: nan - val_acc: 0.9289\n",
            "Epoch 47/50\n",
            "110288/110288 [==============================] - 10s 91us/step - loss: 0.2018 - acc: 0.9322 - val_loss: nan - val_acc: 0.9293\n",
            "Epoch 48/50\n",
            "110288/110288 [==============================] - 10s 92us/step - loss: 0.2015 - acc: 0.9321 - val_loss: nan - val_acc: 0.9297\n",
            "Epoch 49/50\n",
            "110288/110288 [==============================] - 10s 92us/step - loss: 0.1982 - acc: 0.9330 - val_loss: nan - val_acc: 0.9293\n",
            "Epoch 50/50\n",
            "110288/110288 [==============================] - 10s 91us/step - loss: 0.1966 - acc: 0.9333 - val_loss: nan - val_acc: 0.9308\n",
            "new jersey is sometimes quiet during autumn , and it is snowy in april .\n",
            "new jersey est parfois calme en l' automne et il est neigeux en avril <PAD> <PAD> <PAD> <PAD> <PAD> <PAD> <PAD>\n"
          ],
          "name": "stdout"
        }
      ]
    },
    {
      "metadata": {
        "id": "CC9OzaQVojE4",
        "colab_type": "code",
        "colab": {
          "base_uri": "https://localhost:8080/",
          "height": 431
        },
        "outputId": "f5054566-36f2-43c1-e6f2-00c0f0e18486"
      },
      "cell_type": "code",
      "source": [
        "plot_training_history(h,'Model 2: Embedding & GRU')"
      ],
      "execution_count": 171,
      "outputs": [
        {
          "output_type": "display_data",
          "data": {
            "image/png": "[encoded data removed]",
            "text/plain": [
              "<matplotlib.figure.Figure at 0x7f4fe734af28>"
            ]
          },
          "metadata": {
            "tags": []
          }
        }
      ]
    },
    {
      "metadata": {
        "id": "an9u3W2gRihh",
        "colab_type": "text"
      },
      "cell_type": "markdown",
      "source": [
        "#### Output Dim = 100, GRU(155)"
      ]
    },
    {
      "metadata": {
        "id": "cxDSHisVOkF5",
        "colab_type": "code",
        "colab": {
          "base_uri": "https://localhost:8080/",
          "height": 2026
        },
        "outputId": "948e52eb-3fc3-43f1-d0c9-b55301e71b2c"
      },
      "cell_type": "code",
      "source": [
        "def embed_model(input_shape, output_sequence_length, english_vocab_size, french_vocab_size):\n",
        "    \"\"\"\n",
        "    Build and train a RNN model using word embedding on x and y\n",
        "    :param input_shape: Tuple of input shape\n",
        "    :param output_sequence_length: Length of output sequence\n",
        "    :param english_vocab_size: Number of unique English words in the dataset\n",
        "    :param french_vocab_size: Number of unique French words in the dataset\n",
        "    :return: Keras model built, but not trained\n",
        "    \"\"\"\n",
        "    # TODO: Implement\n",
        "    model = Sequential()\n",
        "    output_dim = 100\n",
        "    model.add(Embedding(input_dim=len(english_words_counter), \n",
        "                        output_dim=output_dim,\n",
        "                        input_length=input_shape[1]))\n",
        "    model.add(GRU(155, activation=\"tanh\",\n",
        "                 # dropout=0.2, recurrent_dropout=0.2,\n",
        "                 return_sequences=True))\n",
        "    model.add(TimeDistributed(Dense(french_vocab_size, activation = \"softmax\")))\n",
        "    \n",
        "    learning_rate = 0.001\n",
        "    \n",
        "    model.compile(loss=sparse_categorical_crossentropy,\n",
        "                  optimizer=Adam(learning_rate),\n",
        "                  metrics=['accuracy'])        \n",
        "    return model\n",
        "  \n",
        "tests.test_embed_model(embed_model)\n",
        "\n",
        "\n",
        "# TODO: Reshape the input\n",
        "tmp_x = pad(preproc_english_sentences, max_french_sequence_length)\n",
        "#tmp_x = tmp_x.reshape((-1, preproc_french_sentences.shape[-2], 1))\n",
        "\n",
        "# TODO: Train the neural network\n",
        "my_embed_model = embed_model(\n",
        "    tmp_x.shape,\n",
        "    max_french_sequence_length,\n",
        "    english_vocab_size,\n",
        "    french_vocab_size)\n",
        "print(my_embed_model.summary())\n",
        "\n",
        "h = my_embed_model.fit(tmp_x, preproc_french_sentences, batch_size=1024, \n",
        "                       epochs=NUM_EPOCHS, validation_split=0.2)\n",
        "\n",
        "# TODO: Print prediction(s)\n",
        "print(english_sentences[0])\n",
        "print(logits_to_text(my_embed_model.predict(tmp_x[:1])[0], french_tokenizer))"
      ],
      "execution_count": 175,
      "outputs": [
        {
          "output_type": "stream",
          "text": [
            "_________________________________________________________________\n",
            "Layer (type)                 Output Shape              Param #   \n",
            "=================================================================\n",
            "embedding_30 (Embedding)     (None, 21, 100)           22700     \n",
            "_________________________________________________________________\n",
            "gru_25 (GRU)                 (None, 21, 155)           119040    \n",
            "_________________________________________________________________\n",
            "time_distributed_51 (TimeDis (None, 21, 344)           53664     \n",
            "=================================================================\n",
            "Total params: 195,404\n",
            "Trainable params: 195,404\n",
            "Non-trainable params: 0\n",
            "_________________________________________________________________\n",
            "None\n",
            "Train on 110288 samples, validate on 27573 samples\n",
            "Epoch 1/50\n",
            "110288/110288 [==============================] - 14s 131us/step - loss: 3.3839 - acc: 0.4080 - val_loss: nan - val_acc: 0.4688\n",
            "Epoch 2/50\n",
            "110288/110288 [==============================] - 9s 85us/step - loss: 2.1747 - acc: 0.5270 - val_loss: nan - val_acc: 0.5956\n",
            "Epoch 3/50\n",
            "110288/110288 [==============================] - 9s 85us/step - loss: 1.4551 - acc: 0.6513 - val_loss: nan - val_acc: 0.6993\n",
            "Epoch 4/50\n",
            "110288/110288 [==============================] - 9s 85us/step - loss: 1.0863 - acc: 0.7377 - val_loss: nan - val_acc: 0.7677\n",
            "Epoch 5/50\n",
            "110288/110288 [==============================] - 9s 86us/step - loss: 0.8374 - acc: 0.7851 - val_loss: nan - val_acc: 0.8036\n",
            "Epoch 6/50\n",
            "110288/110288 [==============================] - 9s 85us/step - loss: 0.6687 - acc: 0.8177 - val_loss: nan - val_acc: 0.8298\n",
            "Epoch 7/50\n",
            "110288/110288 [==============================] - 9s 85us/step - loss: 0.5614 - acc: 0.8398 - val_loss: nan - val_acc: 0.8491\n",
            "Epoch 8/50\n",
            "110288/110288 [==============================] - 9s 85us/step - loss: 0.4926 - acc: 0.8559 - val_loss: nan - val_acc: 0.8631\n",
            "Epoch 9/50\n",
            "110288/110288 [==============================] - 9s 86us/step - loss: 0.4393 - acc: 0.8701 - val_loss: nan - val_acc: 0.8784\n",
            "Epoch 10/50\n",
            "110288/110288 [==============================] - 9s 85us/step - loss: 0.3962 - acc: 0.8819 - val_loss: nan - val_acc: 0.8868\n",
            "Epoch 11/50\n",
            "110288/110288 [==============================] - 9s 85us/step - loss: 0.3645 - acc: 0.8899 - val_loss: nan - val_acc: 0.8932\n",
            "Epoch 12/50\n",
            "110288/110288 [==============================] - 9s 85us/step - loss: 0.3389 - acc: 0.8964 - val_loss: nan - val_acc: 0.8991\n",
            "Epoch 13/50\n",
            "110288/110288 [==============================] - 9s 86us/step - loss: 0.3191 - acc: 0.9016 - val_loss: nan - val_acc: 0.9034\n",
            "Epoch 14/50\n",
            "110288/110288 [==============================] - 9s 85us/step - loss: 0.3010 - acc: 0.9067 - val_loss: nan - val_acc: 0.9062\n",
            "Epoch 15/50\n",
            "110288/110288 [==============================] - 9s 86us/step - loss: 0.2886 - acc: 0.9100 - val_loss: nan - val_acc: 0.9088\n",
            "Epoch 16/50\n",
            "110288/110288 [==============================] - 9s 85us/step - loss: 0.2770 - acc: 0.9130 - val_loss: nan - val_acc: 0.9137\n",
            "Epoch 17/50\n",
            "110288/110288 [==============================] - 9s 85us/step - loss: 0.2648 - acc: 0.9165 - val_loss: nan - val_acc: 0.9148\n",
            "Epoch 18/50\n",
            "110288/110288 [==============================] - 9s 85us/step - loss: 0.2562 - acc: 0.9185 - val_loss: nan - val_acc: 0.9177\n",
            "Epoch 19/50\n",
            "110288/110288 [==============================] - 9s 85us/step - loss: 0.2498 - acc: 0.9202 - val_loss: nan - val_acc: 0.9188\n",
            "Epoch 20/50\n",
            "110288/110288 [==============================] - 9s 85us/step - loss: 0.2429 - acc: 0.9220 - val_loss: nan - val_acc: 0.9214\n",
            "Epoch 21/50\n",
            "110288/110288 [==============================] - 9s 85us/step - loss: 0.2365 - acc: 0.9238 - val_loss: nan - val_acc: 0.9226\n",
            "Epoch 22/50\n",
            "110288/110288 [==============================] - 9s 85us/step - loss: 0.2307 - acc: 0.9252 - val_loss: nan - val_acc: 0.9239\n",
            "Epoch 23/50\n",
            "110288/110288 [==============================] - 9s 84us/step - loss: 0.2252 - acc: 0.9266 - val_loss: nan - val_acc: 0.9266\n",
            "Epoch 24/50\n",
            "110288/110288 [==============================] - 9s 85us/step - loss: 0.2206 - acc: 0.9276 - val_loss: nan - val_acc: 0.9265\n",
            "Epoch 25/50\n",
            "110288/110288 [==============================] - 9s 85us/step - loss: 0.2162 - acc: 0.9289 - val_loss: nan - val_acc: 0.9280\n",
            "Epoch 26/50\n",
            "110288/110288 [==============================] - 9s 85us/step - loss: 0.2125 - acc: 0.9300 - val_loss: nan - val_acc: 0.9286\n",
            "Epoch 27/50\n",
            "110288/110288 [==============================] - 9s 85us/step - loss: 0.2096 - acc: 0.9305 - val_loss: nan - val_acc: 0.9292\n",
            "Epoch 28/50\n",
            "110288/110288 [==============================] - 9s 85us/step - loss: 0.2062 - acc: 0.9314 - val_loss: nan - val_acc: 0.9299\n",
            "Epoch 29/50\n",
            "110288/110288 [==============================] - 9s 85us/step - loss: 0.2038 - acc: 0.9317 - val_loss: nan - val_acc: 0.9304\n",
            "Epoch 30/50\n",
            "110288/110288 [==============================] - 9s 85us/step - loss: 0.2001 - acc: 0.9328 - val_loss: nan - val_acc: 0.9300\n",
            "Epoch 31/50\n",
            "110288/110288 [==============================] - 9s 84us/step - loss: 0.1984 - acc: 0.9332 - val_loss: nan - val_acc: 0.9312\n",
            "Epoch 32/50\n",
            "110288/110288 [==============================] - 9s 85us/step - loss: 0.1966 - acc: 0.9335 - val_loss: nan - val_acc: 0.9306\n",
            "Epoch 33/50\n",
            "110288/110288 [==============================] - 9s 85us/step - loss: 0.1942 - acc: 0.9341 - val_loss: nan - val_acc: 0.9322\n",
            "Epoch 34/50\n",
            "110288/110288 [==============================] - 9s 85us/step - loss: 0.1911 - acc: 0.9349 - val_loss: nan - val_acc: 0.9320\n",
            "Epoch 35/50\n",
            "110288/110288 [==============================] - 9s 85us/step - loss: 0.1903 - acc: 0.9349 - val_loss: nan - val_acc: 0.9329\n",
            "Epoch 36/50\n",
            "110288/110288 [==============================] - 9s 85us/step - loss: 0.1888 - acc: 0.9353 - val_loss: nan - val_acc: 0.9326\n",
            "Epoch 37/50\n",
            "110288/110288 [==============================] - 9s 85us/step - loss: 0.1860 - acc: 0.9360 - val_loss: nan - val_acc: 0.9337\n",
            "Epoch 38/50\n",
            "110288/110288 [==============================] - 9s 85us/step - loss: 0.1849 - acc: 0.9362 - val_loss: nan - val_acc: 0.9338\n",
            "Epoch 39/50\n",
            "110288/110288 [==============================] - 9s 85us/step - loss: 0.1834 - acc: 0.9365 - val_loss: nan - val_acc: 0.9330\n",
            "Epoch 40/50\n",
            "110288/110288 [==============================] - 9s 85us/step - loss: 0.1831 - acc: 0.9364 - val_loss: nan - val_acc: 0.9341\n",
            "Epoch 41/50\n",
            "110288/110288 [==============================] - 9s 85us/step - loss: 0.1807 - acc: 0.9371 - val_loss: nan - val_acc: 0.9344\n",
            "Epoch 42/50\n",
            "110288/110288 [==============================] - 9s 85us/step - loss: 0.1785 - acc: 0.9377 - val_loss: nan - val_acc: 0.9351\n",
            "Epoch 43/50\n",
            "110288/110288 [==============================] - 9s 85us/step - loss: 0.1781 - acc: 0.9376 - val_loss: nan - val_acc: 0.9341\n",
            "Epoch 44/50\n",
            "110288/110288 [==============================] - 9s 85us/step - loss: 0.1776 - acc: 0.9378 - val_loss: nan - val_acc: 0.9351\n",
            "Epoch 45/50\n",
            "110288/110288 [==============================] - 9s 85us/step - loss: 0.1754 - acc: 0.9383 - val_loss: nan - val_acc: 0.9357\n",
            "Epoch 46/50\n",
            "110288/110288 [==============================] - 9s 85us/step - loss: 0.1744 - acc: 0.9385 - val_loss: nan - val_acc: 0.9362\n",
            "Epoch 47/50\n",
            "110288/110288 [==============================] - 9s 85us/step - loss: 0.1732 - acc: 0.9388 - val_loss: nan - val_acc: 0.9360\n",
            "Epoch 48/50\n",
            "110288/110288 [==============================] - 9s 85us/step - loss: 0.1725 - acc: 0.9390 - val_loss: nan - val_acc: 0.9359\n",
            "Epoch 49/50\n",
            "110288/110288 [==============================] - 9s 84us/step - loss: 0.1710 - acc: 0.9394 - val_loss: nan - val_acc: 0.9361\n",
            "Epoch 50/50\n",
            "110288/110288 [==============================] - 9s 85us/step - loss: 0.1715 - acc: 0.9391 - val_loss: nan - val_acc: 0.9363\n",
            "new jersey is sometimes quiet during autumn , and it is snowy in april .\n",
            "new jersey est parfois calme en l' automne et il est neigeux en avril <PAD> <PAD> <PAD> <PAD> <PAD> <PAD> <PAD>\n"
          ],
          "name": "stdout"
        }
      ]
    },
    {
      "metadata": {
        "id": "eZJADVe6RQGT",
        "colab_type": "code",
        "colab": {
          "base_uri": "https://localhost:8080/",
          "height": 431
        },
        "outputId": "1665f4cb-b824-4d62-964a-ec4c78e69208"
      },
      "cell_type": "code",
      "source": [
        "plot_training_history(h,'Model 2: Embedding & GRU - Output Dim = 100')"
      ],
      "execution_count": 176,
      "outputs": [
        {
          "output_type": "display_data",
          "data": {
            "image/png": "[encoded data removed]",
            "text/plain": [
              "<matplotlib.figure.Figure at 0x7f4fd83e6c18>"
            ]
          },
          "metadata": {
            "tags": []
          }
        }
      ]
    },
    {
      "metadata": {
        "id": "LeJt-C-h1D0T",
        "colab_type": "text"
      },
      "cell_type": "markdown",
      "source": [
        "### Model 3: Bidirectional RNNs (IMPLEMENTATION)\n",
        "![RNN](https://github.com/udacity/aind2-nlp-capstone/raw/master/images/bidirectional.png)\n",
        "One restriction of a RNN is that it can't see the future input, only the past.  This is where bidirectional recurrent neural networks come in.  They are able to see the future data."
      ]
    },
    {
      "metadata": {
        "id": "W_q9twiE1D0T",
        "colab_type": "code",
        "colab": {
          "base_uri": "https://localhost:8080/",
          "height": 1992
        },
        "outputId": "14d96a4a-0ad2-48a1-a345-66c480bc3cad"
      },
      "cell_type": "code",
      "source": [
        "def bd_model(input_shape, output_sequence_length, english_vocab_size, french_vocab_size):\n",
        "    \"\"\"\n",
        "    Build and train a bidirectional RNN model on x and y\n",
        "    :param input_shape: Tuple of input shape\n",
        "    :param output_sequence_length: Length of output sequence\n",
        "    :param english_vocab_size: Number of unique English words in the dataset\n",
        "    :param french_vocab_size: Number of unique French words in the dataset\n",
        "    :return: Keras model built, but not trained\n",
        "    \"\"\"\n",
        "    # TODO: Implement\n",
        "    model = Sequential()\n",
        "    model.add(Bidirectional(GRU(130, activation = \"tanh\", return_sequences=True),\n",
        "                           input_shape=input_shape[1:]))\n",
        "    model.add(TimeDistributed(Dense(french_vocab_size, activation = \"softmax\")))\n",
        "\n",
        "    learning_rate = 0.001\n",
        "    \n",
        "    model.compile(loss=sparse_categorical_crossentropy,\n",
        "                  optimizer=Adam(learning_rate),\n",
        "                  metrics=['accuracy'])\n",
        "    return model\n",
        "tests.test_simple_model(bd_model)\n",
        "\n",
        "# Reshaping the input to work with a basic RNN\n",
        "tmp_x = pad(preproc_english_sentences, max_french_sequence_length)\n",
        "tmp_x = tmp_x.reshape((-1, preproc_french_sentences.shape[-2], 1))\n",
        "\n",
        "\n",
        "# TODO: Train and Print prediction(s)\n",
        "\n",
        "# Train the neural network\n",
        "my_bd_model = bd_model(\n",
        "    tmp_x.shape,\n",
        "    max_french_sequence_length,\n",
        "    english_vocab_size,\n",
        "    french_vocab_size)\n",
        "\n",
        "print(my_bd_model.summary())\n",
        "\n",
        "h = my_bd_model.fit(tmp_x, preproc_french_sentences, batch_size=1024, \n",
        "                    epochs=NUM_EPOCHS, validation_split=0.2)\n",
        "\n",
        "# Print prediction(s)\n",
        "print(english_sentences[0])\n",
        "print(logits_to_text(my_bd_model.predict(tmp_x[:1])[0], french_tokenizer))    \n",
        "    "
      ],
      "execution_count": 179,
      "outputs": [
        {
          "output_type": "stream",
          "text": [
            "_________________________________________________________________\n",
            "Layer (type)                 Output Shape              Param #   \n",
            "=================================================================\n",
            "bidirectional_20 (Bidirectio (None, 21, 260)           102960    \n",
            "_________________________________________________________________\n",
            "time_distributed_57 (TimeDis (None, 21, 344)           89784     \n",
            "=================================================================\n",
            "Total params: 192,744\n",
            "Trainable params: 192,744\n",
            "Non-trainable params: 0\n",
            "_________________________________________________________________\n",
            "None\n",
            "Train on 110288 samples, validate on 27573 samples\n",
            "Epoch 1/50\n",
            "110288/110288 [==============================] - 19s 174us/step - loss: 2.5810 - acc: 0.5105 - val_loss: nan - val_acc: 0.5851\n",
            "Epoch 2/50\n",
            "110288/110288 [==============================] - 13s 118us/step - loss: 1.5507 - acc: 0.6039 - val_loss: nan - val_acc: 0.6177\n",
            "Epoch 3/50\n",
            "110288/110288 [==============================] - 13s 118us/step - loss: 1.3670 - acc: 0.6275 - val_loss: nan - val_acc: 0.6378\n",
            "Epoch 4/50\n",
            "110288/110288 [==============================] - 13s 118us/step - loss: 1.2659 - acc: 0.6454 - val_loss: nan - val_acc: 0.6538\n",
            "Epoch 5/50\n",
            "110288/110288 [==============================] - 13s 119us/step - loss: 1.1947 - acc: 0.6597 - val_loss: nan - val_acc: 0.6662\n",
            "Epoch 6/50\n",
            "110288/110288 [==============================] - 13s 118us/step - loss: 1.1392 - acc: 0.6699 - val_loss: nan - val_acc: 0.6750\n",
            "Epoch 7/50\n",
            "110288/110288 [==============================] - 13s 119us/step - loss: 1.0952 - acc: 0.6776 - val_loss: nan - val_acc: 0.6826\n",
            "Epoch 8/50\n",
            "110288/110288 [==============================] - 13s 118us/step - loss: 1.0585 - acc: 0.6846 - val_loss: nan - val_acc: 0.6882\n",
            "Epoch 9/50\n",
            "110288/110288 [==============================] - 13s 117us/step - loss: 1.0258 - acc: 0.6895 - val_loss: nan - val_acc: 0.6932\n",
            "Epoch 10/50\n",
            "110288/110288 [==============================] - 13s 118us/step - loss: 0.9968 - acc: 0.6944 - val_loss: nan - val_acc: 0.6953\n",
            "Epoch 11/50\n",
            "110288/110288 [==============================] - 13s 118us/step - loss: 0.9702 - acc: 0.6982 - val_loss: nan - val_acc: 0.7002\n",
            "Epoch 12/50\n",
            "110288/110288 [==============================] - 13s 119us/step - loss: 0.9484 - acc: 0.7017 - val_loss: nan - val_acc: 0.7023\n",
            "Epoch 13/50\n",
            "110288/110288 [==============================] - 13s 118us/step - loss: 0.9284 - acc: 0.7050 - val_loss: nan - val_acc: 0.7074\n",
            "Epoch 14/50\n",
            "110288/110288 [==============================] - 13s 117us/step - loss: 0.9100 - acc: 0.7081 - val_loss: nan - val_acc: 0.7098\n",
            "Epoch 15/50\n",
            "110288/110288 [==============================] - 13s 117us/step - loss: 0.8935 - acc: 0.7110 - val_loss: nan - val_acc: 0.7114\n",
            "Epoch 16/50\n",
            "110288/110288 [==============================] - 13s 117us/step - loss: 0.8777 - acc: 0.7137 - val_loss: nan - val_acc: 0.7140\n",
            "Epoch 17/50\n",
            "110288/110288 [==============================] - 13s 117us/step - loss: 0.8631 - acc: 0.7164 - val_loss: nan - val_acc: 0.7177\n",
            "Epoch 18/50\n",
            "110288/110288 [==============================] - 13s 117us/step - loss: 0.8487 - acc: 0.7189 - val_loss: nan - val_acc: 0.7205\n",
            "Epoch 19/50\n",
            "110288/110288 [==============================] - 13s 117us/step - loss: 0.8363 - acc: 0.7216 - val_loss: nan - val_acc: 0.7235\n",
            "Epoch 20/50\n",
            "110288/110288 [==============================] - 13s 118us/step - loss: 0.8235 - acc: 0.7247 - val_loss: nan - val_acc: 0.7267\n",
            "Epoch 21/50\n",
            "110288/110288 [==============================] - 13s 117us/step - loss: 0.8118 - acc: 0.7275 - val_loss: nan - val_acc: 0.7266\n",
            "Epoch 22/50\n",
            "110288/110288 [==============================] - 13s 117us/step - loss: 0.8012 - acc: 0.7301 - val_loss: nan - val_acc: 0.7318\n",
            "Epoch 23/50\n",
            "110288/110288 [==============================] - 13s 117us/step - loss: 0.7923 - acc: 0.7326 - val_loss: nan - val_acc: 0.7355\n",
            "Epoch 24/50\n",
            "110288/110288 [==============================] - 13s 117us/step - loss: 0.7844 - acc: 0.7348 - val_loss: nan - val_acc: 0.7377\n",
            "Epoch 25/50\n",
            "110288/110288 [==============================] - 13s 117us/step - loss: 0.7743 - acc: 0.7379 - val_loss: nan - val_acc: 0.7377\n",
            "Epoch 26/50\n",
            "110288/110288 [==============================] - 13s 117us/step - loss: 0.7659 - acc: 0.7409 - val_loss: nan - val_acc: 0.7415\n",
            "Epoch 27/50\n",
            "110288/110288 [==============================] - 13s 117us/step - loss: 0.7574 - acc: 0.7444 - val_loss: nan - val_acc: 0.7402\n",
            "Epoch 28/50\n",
            "110288/110288 [==============================] - 13s 117us/step - loss: 0.7492 - acc: 0.7478 - val_loss: nan - val_acc: 0.7503\n",
            "Epoch 29/50\n",
            "110288/110288 [==============================] - 13s 118us/step - loss: 0.7416 - acc: 0.7510 - val_loss: nan - val_acc: 0.7522\n",
            "Epoch 30/50\n",
            "110288/110288 [==============================] - 13s 118us/step - loss: 0.7339 - acc: 0.7547 - val_loss: nan - val_acc: 0.7554\n",
            "Epoch 31/50\n",
            "110288/110288 [==============================] - 13s 117us/step - loss: 0.7256 - acc: 0.7586 - val_loss: nan - val_acc: 0.7597\n",
            "Epoch 32/50\n",
            "110288/110288 [==============================] - 13s 117us/step - loss: 0.7170 - acc: 0.7631 - val_loss: nan - val_acc: 0.7622\n",
            "Epoch 33/50\n",
            "110288/110288 [==============================] - 13s 117us/step - loss: 0.7099 - acc: 0.7664 - val_loss: nan - val_acc: 0.7680\n",
            "Epoch 34/50\n",
            "110288/110288 [==============================] - 13s 117us/step - loss: 0.7038 - acc: 0.7695 - val_loss: nan - val_acc: 0.7634\n",
            "Epoch 35/50\n",
            "110288/110288 [==============================] - 13s 117us/step - loss: 0.6959 - acc: 0.7730 - val_loss: nan - val_acc: 0.7745\n",
            "Epoch 36/50\n",
            "110288/110288 [==============================] - 13s 117us/step - loss: 0.6882 - acc: 0.7768 - val_loss: nan - val_acc: 0.7735\n",
            "Epoch 37/50\n",
            "110288/110288 [==============================] - 13s 117us/step - loss: 0.6801 - acc: 0.7805 - val_loss: nan - val_acc: 0.7800\n",
            "Epoch 38/50\n",
            "110288/110288 [==============================] - 13s 117us/step - loss: 0.6748 - acc: 0.7825 - val_loss: nan - val_acc: 0.7732\n",
            "Epoch 39/50\n",
            "110288/110288 [==============================] - 13s 117us/step - loss: 0.6654 - acc: 0.7866 - val_loss: nan - val_acc: 0.7856\n",
            "Epoch 40/50\n",
            "110288/110288 [==============================] - 13s 117us/step - loss: 0.6587 - acc: 0.7897 - val_loss: nan - val_acc: 0.7887\n",
            "Epoch 41/50\n",
            "110288/110288 [==============================] - 13s 117us/step - loss: 0.6503 - acc: 0.7924 - val_loss: nan - val_acc: 0.7926\n",
            "Epoch 42/50\n",
            "110288/110288 [==============================] - 13s 117us/step - loss: 0.6434 - acc: 0.7957 - val_loss: nan - val_acc: 0.7923\n",
            "Epoch 43/50\n",
            "110288/110288 [==============================] - 13s 117us/step - loss: 0.6369 - acc: 0.7983 - val_loss: nan - val_acc: 0.7958\n",
            "Epoch 44/50\n",
            "110288/110288 [==============================] - 13s 117us/step - loss: 0.6306 - acc: 0.8010 - val_loss: nan - val_acc: 0.7992\n",
            "Epoch 45/50\n",
            "110288/110288 [==============================] - 13s 117us/step - loss: 0.6256 - acc: 0.8029 - val_loss: nan - val_acc: 0.8023\n",
            "Epoch 46/50\n",
            "110288/110288 [==============================] - 13s 117us/step - loss: 0.6199 - acc: 0.8049 - val_loss: nan - val_acc: 0.8051\n",
            "Epoch 47/50\n",
            "110288/110288 [==============================] - 13s 116us/step - loss: 0.6132 - acc: 0.8080 - val_loss: nan - val_acc: 0.8064\n",
            "Epoch 48/50\n",
            "110288/110288 [==============================] - 13s 116us/step - loss: 0.6117 - acc: 0.8077 - val_loss: nan - val_acc: 0.8003\n",
            "Epoch 49/50\n",
            "110288/110288 [==============================] - 13s 116us/step - loss: 0.6030 - acc: 0.8117 - val_loss: nan - val_acc: 0.8096\n",
            "Epoch 50/50\n",
            "110288/110288 [==============================] - 13s 116us/step - loss: 0.5983 - acc: 0.8135 - val_loss: nan - val_acc: 0.8090\n",
            "new jersey is sometimes quiet during autumn , and it is snowy in april .\n",
            "new jersey est parfois calme au mois de il et il en en avril <PAD> <PAD> <PAD> <PAD> <PAD> <PAD> <PAD>\n"
          ],
          "name": "stdout"
        }
      ]
    },
    {
      "metadata": {
        "id": "srnqI0Elp0YD",
        "colab_type": "code",
        "colab": {
          "base_uri": "https://localhost:8080/",
          "height": 431
        },
        "outputId": "9ad622db-d9a5-42e3-db7c-26dfdb20dbc1"
      },
      "cell_type": "code",
      "source": [
        "plot_training_history(h,'Model 3: Bidirectional RNN')"
      ],
      "execution_count": 180,
      "outputs": [
        {
          "output_type": "display_data",
          "data": {
            "image/png": "[encoded data removed]",
            "text/plain": [
              "<matplotlib.figure.Figure at 0x7f4fcfe5b7b8>"
            ]
          },
          "metadata": {
            "tags": []
          }
        }
      ]
    },
    {
      "metadata": {
        "id": "9Jt3o_n81D0U",
        "colab_type": "text"
      },
      "cell_type": "markdown",
      "source": [
        "### Model 4: Encoder-Decoder (OPTIONAL)\n",
        "Time to look at encoder-decoder models.  This model is made up of an encoder and decoder. The encoder creates a matrix representation of the sentence.  The decoder takes this matrix as input and predicts the translation as output.\n",
        "\n",
        "Create an encoder-decoder model in the cell below."
      ]
    },
    {
      "metadata": {
        "id": "lZMIKHal1D0V",
        "colab_type": "code",
        "colab": {}
      },
      "cell_type": "code",
      "source": [
        "def encdec_model(input_shape, output_sequence_length, english_vocab_size, french_vocab_size):\n",
        "    \"\"\"\n",
        "    Build and train an encoder-decoder model on x and y\n",
        "    :param input_shape: Tuple of input shape\n",
        "    :param output_sequence_length: Length of output sequence\n",
        "    :param english_vocab_size: Number of unique English words in the dataset\n",
        "    :param french_vocab_size: Number of unique French words in the dataset\n",
        "    :return: Keras model built, but not trained\n",
        "    \"\"\"\n",
        "    # OPTIONAL: Implement\n",
        "    return None\n",
        "tests.test_encdec_model(encdec_model)\n",
        "\n",
        "\n",
        "# OPTIONAL: Train and Print prediction(s)"
      ],
      "execution_count": 0,
      "outputs": []
    },
    {
      "metadata": {
        "id": "lg167Giw1D0X",
        "colab_type": "text"
      },
      "cell_type": "markdown",
      "source": [
        "### Model 5: Custom (IMPLEMENTATION)\n",
        "Use everything you learned from the previous models to create a model that incorporates embedding and a bidirectional rnn into one model."
      ]
    },
    {
      "metadata": {
        "id": "FrP9jw1o1D0Z",
        "colab_type": "code",
        "colab": {
          "base_uri": "https://localhost:8080/",
          "height": 2094
        },
        "outputId": "438da292-aee0-480b-aa1c-364223e62419"
      },
      "cell_type": "code",
      "source": [
        "def model_final(input_shape, output_sequence_length, english_vocab_size, french_vocab_size):\n",
        "    \"\"\"\n",
        "    Build and train a model that incorporates embedding, encoder-decoder, and bidirectional RNN on x and y\n",
        "    :param input_shape: Tuple of input shape\n",
        "    :param output_sequence_length: Length of output sequence\n",
        "    :param english_vocab_size: Number of unique English words in the dataset\n",
        "    :param french_vocab_size: Number of unique French words in the dataset\n",
        "    :return: Keras model built, but not trained\n",
        "    \"\"\"\n",
        "    # TODO: Implement\n",
        "    model = Sequential()\n",
        "    output_dim = 10\n",
        "    model.add(Embedding(input_dim=len(english_words_counter), \n",
        "                        output_dim=output_dim,\n",
        "                        input_length=input_shape[1]\n",
        "                       ))\n",
        "    # The final prediction problem requires different input/output sequence lengths. \n",
        "    # Input sequence is pad with respect to English (15 in this case) but output\n",
        "    # French sentence needs to be of length 21. We would not have a problem\n",
        "    # when we use encoder-decoder implementation but for our case we need to\n",
        "    # ensure equal input-output sequence length by zero padding appropriately.\n",
        "    model.add(ZeroPadding1D((0,output_sequence_length-input_shape[1])))\n",
        "\n",
        "    model.add(Bidirectional(GRU(125, activation=\"tanh\", \n",
        "                        return_sequences=True)))\n",
        "    model.add(TimeDistributed(Dense(french_vocab_size, activation = \"softmax\")))\n",
        "    \n",
        "    learning_rate = 0.001\n",
        "    \n",
        "    model.compile(loss=sparse_categorical_crossentropy,\n",
        "                  optimizer=Adam(learning_rate),\n",
        "                  metrics=['accuracy'])    \n",
        "    \n",
        "    return model\n",
        "  \n",
        "tests.test_embed_model(model_final)\n",
        "\n",
        "\n",
        "# TODO: Reshape the input\n",
        "tmp_x = pad(preproc_english_sentences, max_french_sequence_length)\n",
        "#tmp_x = tmp_x.reshape((-1, preproc_french_sentences.shape[-2], 1))\n",
        "\n",
        "# TODO: Train the neural network\n",
        "my_model_final = model_final(\n",
        "    tmp_x.shape,\n",
        "    max_french_sequence_length,\n",
        "    english_vocab_size,\n",
        "    french_vocab_size)\n",
        "print('Final Model Loaded')\n",
        "print(my_model_final.summary())\n",
        "\n",
        "print('Input shape = {}'.format(tmp_x.shape))\n",
        "# TODO: Train the final model\n",
        "h = my_model_final.fit(tmp_x, preproc_french_sentences, batch_size=1024, \n",
        "                       epochs=NUM_EPOCHS, validation_split=0.2)\n",
        "\n",
        "\n",
        "# Print prediction(s)\n",
        "print(english_sentences[0])\n",
        "print(logits_to_text(my_model_final.predict(tmp_x[:1])[0], french_tokenizer))\n"
      ],
      "execution_count": 186,
      "outputs": [
        {
          "output_type": "stream",
          "text": [
            "Final Model Loaded\n",
            "_________________________________________________________________\n",
            "Layer (type)                 Output Shape              Param #   \n",
            "=================================================================\n",
            "embedding_42 (Embedding)     (None, 21, 10)            2270      \n",
            "_________________________________________________________________\n",
            "zero_padding1d_19 (ZeroPaddi (None, 21, 10)            0         \n",
            "_________________________________________________________________\n",
            "bidirectional_32 (Bidirectio (None, 21, 250)           102000    \n",
            "_________________________________________________________________\n",
            "time_distributed_69 (TimeDis (None, 21, 344)           86344     \n",
            "=================================================================\n",
            "Total params: 190,614\n",
            "Trainable params: 190,614\n",
            "Non-trainable params: 0\n",
            "_________________________________________________________________\n",
            "None\n",
            "Input shape = (137861, 21)\n",
            "Train on 110288 samples, validate on 27573 samples\n",
            "Epoch 1/50\n",
            "110288/110288 [==============================] - 22s 202us/step - loss: 3.3153 - acc: 0.4310 - val_loss: nan - val_acc: 0.4687\n",
            "Epoch 2/50\n",
            "110288/110288 [==============================] - 14s 129us/step - loss: 2.5244 - acc: 0.4780 - val_loss: nan - val_acc: 0.4851\n",
            "Epoch 3/50\n",
            "110288/110288 [==============================] - 14s 129us/step - loss: 2.3398 - acc: 0.4944 - val_loss: nan - val_acc: 0.5173\n",
            "Epoch 4/50\n",
            "110288/110288 [==============================] - 14s 129us/step - loss: 1.8093 - acc: 0.5533 - val_loss: nan - val_acc: 0.5859\n",
            "Epoch 5/50\n",
            "110288/110288 [==============================] - 14s 130us/step - loss: 1.4723 - acc: 0.6142 - val_loss: nan - val_acc: 0.6401\n",
            "Epoch 6/50\n",
            "110288/110288 [==============================] - 14s 129us/step - loss: 1.2552 - acc: 0.6661 - val_loss: nan - val_acc: 0.6938\n",
            "Epoch 7/50\n",
            "110288/110288 [==============================] - 14s 129us/step - loss: 1.0738 - acc: 0.7195 - val_loss: nan - val_acc: 0.7418\n",
            "Epoch 8/50\n",
            "110288/110288 [==============================] - 14s 130us/step - loss: 0.9121 - acc: 0.7589 - val_loss: nan - val_acc: 0.7781\n",
            "Epoch 9/50\n",
            "110288/110288 [==============================] - 14s 130us/step - loss: 0.7815 - acc: 0.7937 - val_loss: nan - val_acc: 0.8089\n",
            "Epoch 10/50\n",
            "110288/110288 [==============================] - 14s 129us/step - loss: 0.6821 - acc: 0.8192 - val_loss: nan - val_acc: 0.8294\n",
            "Epoch 11/50\n",
            "110288/110288 [==============================] - 14s 130us/step - loss: 0.6058 - acc: 0.8370 - val_loss: nan - val_acc: 0.8430\n",
            "Epoch 12/50\n",
            "110288/110288 [==============================] - 14s 130us/step - loss: 0.5474 - acc: 0.8503 - val_loss: nan - val_acc: 0.8538\n",
            "Epoch 13/50\n",
            "110288/110288 [==============================] - 14s 130us/step - loss: 0.5001 - acc: 0.8614 - val_loss: nan - val_acc: 0.8666\n",
            "Epoch 14/50\n",
            "110288/110288 [==============================] - 14s 129us/step - loss: 0.4564 - acc: 0.8728 - val_loss: nan - val_acc: 0.8792\n",
            "Epoch 15/50\n",
            "110288/110288 [==============================] - 14s 130us/step - loss: 0.4186 - acc: 0.8827 - val_loss: nan - val_acc: 0.8863\n",
            "Epoch 16/50\n",
            "110288/110288 [==============================] - 14s 130us/step - loss: 0.3868 - acc: 0.8904 - val_loss: nan - val_acc: 0.8937\n",
            "Epoch 17/50\n",
            "110288/110288 [==============================] - 14s 129us/step - loss: 0.3594 - acc: 0.8971 - val_loss: nan - val_acc: 0.8983\n",
            "Epoch 18/50\n",
            "110288/110288 [==============================] - 14s 130us/step - loss: 0.3366 - acc: 0.9027 - val_loss: nan - val_acc: 0.9022\n",
            "Epoch 19/50\n",
            "110288/110288 [==============================] - 14s 130us/step - loss: 0.3168 - acc: 0.9078 - val_loss: nan - val_acc: 0.9090\n",
            "Epoch 20/50\n",
            "110288/110288 [==============================] - 14s 129us/step - loss: 0.2984 - acc: 0.9127 - val_loss: nan - val_acc: 0.9114\n",
            "Epoch 21/50\n",
            "110288/110288 [==============================] - 14s 129us/step - loss: 0.2835 - acc: 0.9169 - val_loss: nan - val_acc: 0.9180\n",
            "Epoch 22/50\n",
            "110288/110288 [==============================] - 14s 130us/step - loss: 0.2680 - acc: 0.9215 - val_loss: nan - val_acc: 0.9217\n",
            "Epoch 23/50\n",
            "110288/110288 [==============================] - 14s 130us/step - loss: 0.2546 - acc: 0.9256 - val_loss: nan - val_acc: 0.9248\n",
            "Epoch 24/50\n",
            "110288/110288 [==============================] - 14s 129us/step - loss: 0.2439 - acc: 0.9286 - val_loss: nan - val_acc: 0.9279\n",
            "Epoch 25/50\n",
            "110288/110288 [==============================] - 14s 129us/step - loss: 0.2348 - acc: 0.9309 - val_loss: nan - val_acc: 0.9308\n",
            "Epoch 26/50\n",
            "110288/110288 [==============================] - 14s 129us/step - loss: 0.2230 - acc: 0.9347 - val_loss: nan - val_acc: 0.9330\n",
            "Epoch 27/50\n",
            "110288/110288 [==============================] - 14s 129us/step - loss: 0.2155 - acc: 0.9367 - val_loss: nan - val_acc: 0.9356\n",
            "Epoch 28/50\n",
            "110288/110288 [==============================] - 14s 129us/step - loss: 0.2075 - acc: 0.9391 - val_loss: nan - val_acc: 0.9383\n",
            "Epoch 29/50\n",
            "110288/110288 [==============================] - 14s 129us/step - loss: 0.1994 - acc: 0.9415 - val_loss: nan - val_acc: 0.9414\n",
            "Epoch 30/50\n",
            "110288/110288 [==============================] - 14s 129us/step - loss: 0.1919 - acc: 0.9439 - val_loss: nan - val_acc: 0.9430\n",
            "Epoch 31/50\n",
            "110288/110288 [==============================] - 14s 130us/step - loss: 0.1857 - acc: 0.9457 - val_loss: nan - val_acc: 0.9432\n",
            "Epoch 32/50\n",
            "110288/110288 [==============================] - 14s 130us/step - loss: 0.1787 - acc: 0.9478 - val_loss: nan - val_acc: 0.9459\n",
            "Epoch 33/50\n",
            "110288/110288 [==============================] - 14s 129us/step - loss: 0.1737 - acc: 0.9494 - val_loss: nan - val_acc: 0.9478\n",
            "Epoch 34/50\n",
            "110288/110288 [==============================] - 14s 129us/step - loss: 0.1688 - acc: 0.9507 - val_loss: nan - val_acc: 0.9499\n",
            "Epoch 35/50\n",
            "110288/110288 [==============================] - 14s 129us/step - loss: 0.1625 - acc: 0.9527 - val_loss: nan - val_acc: 0.9503\n",
            "Epoch 36/50\n",
            "110288/110288 [==============================] - 14s 129us/step - loss: 0.1589 - acc: 0.9537 - val_loss: nan - val_acc: 0.9507\n",
            "Epoch 37/50\n",
            "110288/110288 [==============================] - 14s 129us/step - loss: 0.1541 - acc: 0.9551 - val_loss: nan - val_acc: 0.9537\n",
            "Epoch 38/50\n",
            "110288/110288 [==============================] - 14s 129us/step - loss: 0.1477 - acc: 0.9574 - val_loss: nan - val_acc: 0.9542\n",
            "Epoch 39/50\n",
            "110288/110288 [==============================] - 14s 130us/step - loss: 0.1454 - acc: 0.9579 - val_loss: nan - val_acc: 0.9560\n",
            "Epoch 40/50\n",
            "110288/110288 [==============================] - 14s 129us/step - loss: 0.1411 - acc: 0.9591 - val_loss: nan - val_acc: 0.9567\n",
            "Epoch 41/50\n",
            "110288/110288 [==============================] - 14s 129us/step - loss: 0.1377 - acc: 0.9602 - val_loss: nan - val_acc: 0.9573\n",
            "Epoch 42/50\n",
            "110288/110288 [==============================] - 14s 130us/step - loss: 0.1354 - acc: 0.9607 - val_loss: nan - val_acc: 0.9586\n",
            "Epoch 43/50\n",
            "110288/110288 [==============================] - 14s 129us/step - loss: 0.1304 - acc: 0.9625 - val_loss: nan - val_acc: 0.9586\n",
            "Epoch 44/50\n",
            "110288/110288 [==============================] - 14s 129us/step - loss: 0.1277 - acc: 0.9630 - val_loss: nan - val_acc: 0.9599\n",
            "Epoch 45/50\n",
            "110288/110288 [==============================] - 14s 129us/step - loss: 0.1242 - acc: 0.9641 - val_loss: nan - val_acc: 0.9618\n",
            "Epoch 46/50\n",
            "110288/110288 [==============================] - 14s 129us/step - loss: 0.1220 - acc: 0.9647 - val_loss: nan - val_acc: 0.9612\n",
            "Epoch 47/50\n",
            "110288/110288 [==============================] - 14s 129us/step - loss: 0.1191 - acc: 0.9656 - val_loss: nan - val_acc: 0.9629\n",
            "Epoch 48/50\n",
            "110288/110288 [==============================] - 14s 129us/step - loss: 0.1169 - acc: 0.9661 - val_loss: nan - val_acc: 0.9632\n",
            "Epoch 49/50\n",
            "110288/110288 [==============================] - 14s 129us/step - loss: 0.1133 - acc: 0.9672 - val_loss: nan - val_acc: 0.9640\n",
            "Epoch 50/50\n",
            "110288/110288 [==============================] - 14s 129us/step - loss: 0.1111 - acc: 0.9679 - val_loss: nan - val_acc: 0.9643\n",
            "new jersey is sometimes quiet during autumn , and it is snowy in april .\n",
            "new jersey est parfois calme pendant l' automne et il est neigeux en avril <PAD> <PAD> <PAD> <PAD> <PAD> <PAD> <PAD>\n"
          ],
          "name": "stdout"
        }
      ]
    },
    {
      "metadata": {
        "id": "3XMgXG2Jp9Bu",
        "colab_type": "code",
        "colab": {
          "base_uri": "https://localhost:8080/",
          "height": 431
        },
        "outputId": "fc70c8fa-d1ee-4e78-c051-1de1797e4bfe"
      },
      "cell_type": "code",
      "source": [
        "plot_training_history(h,'Model 5: Custom (Embedded & Bidirectional RNN)')"
      ],
      "execution_count": 187,
      "outputs": [
        {
          "output_type": "display_data",
          "data": {
            "image/png": "[encoded data removed]",
            "text/plain": [
              "<matplotlib.figure.Figure at 0x7f4fd83dd8d0>"
            ]
          },
          "metadata": {
            "tags": []
          }
        }
      ]
    },
    {
      "metadata": {
        "id": "-8y24uGj1D0a",
        "colab_type": "text"
      },
      "cell_type": "markdown",
      "source": [
        "## Prediction (IMPLEMENTATION)"
      ]
    },
    {
      "metadata": {
        "id": "4ZLPoJgJ1D0b",
        "colab_type": "code",
        "colab": {
          "base_uri": "https://localhost:8080/",
          "height": 2128
        },
        "outputId": "0d37bd67-9c94-4621-9bd4-dde80e930261"
      },
      "cell_type": "code",
      "source": [
        "def final_predictions(x, y, x_tk, y_tk):\n",
        "    \"\"\"\n",
        "    Gets predictions using the final model\n",
        "    :param x: Preprocessed English data\n",
        "    :param y: Preprocessed French data\n",
        "    :param x_tk: English tokenizer\n",
        "    :param y_tk: French tokenizer\n",
        "    \"\"\"\n",
        "    # TODO: Train neural network using model_final\n",
        "    model = model_final(x.shape, y.shape[1], \n",
        "                        len(x_tk.word_index), \n",
        "                        len(y_tk.word_index))\n",
        "    print(model.summary())\n",
        "    h = model.fit(x, y, batch_size=1024, epochs=NUM_EPOCHS, validation_split=0.2)\n",
        "    \n",
        "    ## DON'T EDIT ANYTHING BELOW THIS LINE\n",
        "    y_id_to_word = {value: key for key, value in y_tk.word_index.items()}\n",
        "    y_id_to_word[0] = '<PAD>'\n",
        "\n",
        "    sentence = 'he saw a old yellow truck'\n",
        "    sentence = [x_tk.word_index[word] for word in sentence.split()]\n",
        "    sentence = pad_sequences([sentence], maxlen=x.shape[-1], padding='post')\n",
        "    sentences = np.array([sentence[0], x[0]])\n",
        "    predictions = model.predict(sentences, len(sentences))\n",
        "\n",
        "    print('Sample 1:')\n",
        "    print(' '.join([y_id_to_word[np.argmax(x)] for x in predictions[0]]))\n",
        "    print('Il a vu un vieux camion jaune')\n",
        "    print('Sample 2:')\n",
        "    print(' '.join([y_id_to_word[np.argmax(x)] for x in predictions[1]]))\n",
        "    print(' '.join([y_id_to_word[np.max(x)] for x in y[0]]))\n",
        "\n",
        "\n",
        "    ## Returning history for visualization\n",
        "    return h\n",
        "h = final_predictions(preproc_english_sentences, preproc_french_sentences, english_tokenizer, french_tokenizer)"
      ],
      "execution_count": 22,
      "outputs": [
        {
          "output_type": "stream",
          "text": [
            "_________________________________________________________________\n",
            "Layer (type)                 Output Shape              Param #   \n",
            "=================================================================\n",
            "embedding_2 (Embedding)      (None, 15, 10)            2270      \n",
            "_________________________________________________________________\n",
            "zero_padding1d_1 (ZeroPaddin (None, 21, 10)            0         \n",
            "_________________________________________________________________\n",
            "bidirectional_1 (Bidirection (None, 21, 250)           102000    \n",
            "_________________________________________________________________\n",
            "time_distributed_1 (TimeDist (None, 21, 344)           86344     \n",
            "=================================================================\n",
            "Total params: 190,614\n",
            "Trainable params: 190,614\n",
            "Non-trainable params: 0\n",
            "_________________________________________________________________\n",
            "None\n",
            "Train on 110288 samples, validate on 27573 samples\n",
            "Epoch 1/50\n",
            "110288/110288 [==============================] - 15s 138us/step - loss: 3.3533 - acc: 0.4296 - val_loss: nan - val_acc: 0.4680\n",
            "Epoch 2/50\n",
            "110288/110288 [==============================] - 14s 126us/step - loss: 2.4968 - acc: 0.4783 - val_loss: nan - val_acc: 0.4978\n",
            "Epoch 3/50\n",
            "110288/110288 [==============================] - 14s 126us/step - loss: 2.0405 - acc: 0.5334 - val_loss: nan - val_acc: 0.5876\n",
            "Epoch 4/50\n",
            "110288/110288 [==============================] - 14s 127us/step - loss: 1.4884 - acc: 0.6113 - val_loss: nan - val_acc: 0.6409\n",
            "Epoch 5/50\n",
            "110288/110288 [==============================] - 14s 126us/step - loss: 1.2536 - acc: 0.6713 - val_loss: nan - val_acc: 0.6997\n",
            "Epoch 6/50\n",
            "110288/110288 [==============================] - 14s 126us/step - loss: 1.0663 - acc: 0.7216 - val_loss: nan - val_acc: 0.7419\n",
            "Epoch 7/50\n",
            "110288/110288 [==============================] - 14s 127us/step - loss: 0.9072 - acc: 0.7579 - val_loss: nan - val_acc: 0.7716\n",
            "Epoch 8/50\n",
            "110288/110288 [==============================] - 14s 127us/step - loss: 0.7855 - acc: 0.7832 - val_loss: nan - val_acc: 0.7956\n",
            "Epoch 9/50\n",
            "110288/110288 [==============================] - 14s 126us/step - loss: 0.6848 - acc: 0.8074 - val_loss: nan - val_acc: 0.8202\n",
            "Epoch 10/50\n",
            "110288/110288 [==============================] - 14s 126us/step - loss: 0.6017 - acc: 0.8279 - val_loss: nan - val_acc: 0.8387\n",
            "Epoch 11/50\n",
            "110288/110288 [==============================] - 14s 126us/step - loss: 0.5357 - acc: 0.8454 - val_loss: nan - val_acc: 0.8547\n",
            "Epoch 12/50\n",
            "110288/110288 [==============================] - 14s 126us/step - loss: 0.4811 - acc: 0.8612 - val_loss: nan - val_acc: 0.8682\n",
            "Epoch 13/50\n",
            "110288/110288 [==============================] - 14s 126us/step - loss: 0.4377 - acc: 0.8738 - val_loss: nan - val_acc: 0.8778\n",
            "Epoch 14/50\n",
            "110288/110288 [==============================] - 14s 127us/step - loss: 0.4019 - acc: 0.8838 - val_loss: nan - val_acc: 0.8892\n",
            "Epoch 15/50\n",
            "110288/110288 [==============================] - 14s 126us/step - loss: 0.3724 - acc: 0.8917 - val_loss: nan - val_acc: 0.8954\n",
            "Epoch 16/50\n",
            "110288/110288 [==============================] - 14s 126us/step - loss: 0.3447 - acc: 0.8993 - val_loss: nan - val_acc: 0.9021\n",
            "Epoch 17/50\n",
            "110288/110288 [==============================] - 14s 127us/step - loss: 0.3231 - acc: 0.9052 - val_loss: nan - val_acc: 0.9047\n",
            "Epoch 18/50\n",
            "110288/110288 [==============================] - 14s 126us/step - loss: 0.3051 - acc: 0.9099 - val_loss: nan - val_acc: 0.9121\n",
            "Epoch 19/50\n",
            "110288/110288 [==============================] - 14s 126us/step - loss: 0.2862 - acc: 0.9153 - val_loss: nan - val_acc: 0.9166\n",
            "Epoch 20/50\n",
            "110288/110288 [==============================] - 14s 127us/step - loss: 0.2709 - acc: 0.9197 - val_loss: nan - val_acc: 0.9202\n",
            "Epoch 21/50\n",
            "110288/110288 [==============================] - 14s 126us/step - loss: 0.2579 - acc: 0.9234 - val_loss: nan - val_acc: 0.9244\n",
            "Epoch 22/50\n",
            "110288/110288 [==============================] - 14s 126us/step - loss: 0.2430 - acc: 0.9281 - val_loss: nan - val_acc: 0.9274\n",
            "Epoch 23/50\n",
            "110288/110288 [==============================] - 14s 127us/step - loss: 0.2326 - acc: 0.9312 - val_loss: nan - val_acc: 0.9300\n",
            "Epoch 24/50\n",
            "110288/110288 [==============================] - 14s 126us/step - loss: 0.2233 - acc: 0.9339 - val_loss: nan - val_acc: 0.9337\n",
            "Epoch 25/50\n",
            "110288/110288 [==============================] - 14s 126us/step - loss: 0.2135 - acc: 0.9369 - val_loss: nan - val_acc: 0.9348\n",
            "Epoch 26/50\n",
            "110288/110288 [==============================] - 14s 127us/step - loss: 0.2044 - acc: 0.9394 - val_loss: nan - val_acc: 0.9390\n",
            "Epoch 27/50\n",
            "110288/110288 [==============================] - 14s 127us/step - loss: 0.1971 - acc: 0.9416 - val_loss: nan - val_acc: 0.9373\n",
            "Epoch 28/50\n",
            "110288/110288 [==============================] - 14s 126us/step - loss: 0.1908 - acc: 0.9435 - val_loss: nan - val_acc: 0.9410\n",
            "Epoch 29/50\n",
            "110288/110288 [==============================] - 14s 127us/step - loss: 0.1827 - acc: 0.9462 - val_loss: nan - val_acc: 0.9444\n",
            "Epoch 30/50\n",
            "110288/110288 [==============================] - 14s 126us/step - loss: 0.1767 - acc: 0.9479 - val_loss: nan - val_acc: 0.9468\n",
            "Epoch 31/50\n",
            "110288/110288 [==============================] - 14s 126us/step - loss: 0.1712 - acc: 0.9495 - val_loss: nan - val_acc: 0.9481\n",
            "Epoch 32/50\n",
            "110288/110288 [==============================] - 14s 126us/step - loss: 0.1652 - acc: 0.9514 - val_loss: nan - val_acc: 0.9491\n",
            "Epoch 33/50\n",
            "110288/110288 [==============================] - 14s 126us/step - loss: 0.1590 - acc: 0.9531 - val_loss: nan - val_acc: 0.9513\n",
            "Epoch 34/50\n",
            "110288/110288 [==============================] - 14s 126us/step - loss: 0.1554 - acc: 0.9543 - val_loss: nan - val_acc: 0.9528\n",
            "Epoch 35/50\n",
            "110288/110288 [==============================] - 14s 126us/step - loss: 0.1497 - acc: 0.9560 - val_loss: nan - val_acc: 0.9534\n",
            "Epoch 36/50\n",
            "110288/110288 [==============================] - 14s 126us/step - loss: 0.1448 - acc: 0.9576 - val_loss: nan - val_acc: 0.9542\n",
            "Epoch 37/50\n",
            "110288/110288 [==============================] - 14s 126us/step - loss: 0.1411 - acc: 0.9585 - val_loss: nan - val_acc: 0.9563\n",
            "Epoch 38/50\n",
            "110288/110288 [==============================] - 14s 126us/step - loss: 0.1373 - acc: 0.9598 - val_loss: nan - val_acc: 0.9569\n",
            "Epoch 39/50\n",
            "110288/110288 [==============================] - 14s 127us/step - loss: 0.1329 - acc: 0.9611 - val_loss: nan - val_acc: 0.9577\n",
            "Epoch 40/50\n",
            "110288/110288 [==============================] - 14s 126us/step - loss: 0.1291 - acc: 0.9622 - val_loss: nan - val_acc: 0.9593\n",
            "Epoch 41/50\n",
            "110288/110288 [==============================] - 14s 126us/step - loss: 0.1280 - acc: 0.9625 - val_loss: nan - val_acc: 0.9601\n",
            "Epoch 42/50\n",
            "110288/110288 [==============================] - 14s 126us/step - loss: 0.1255 - acc: 0.9631 - val_loss: nan - val_acc: 0.9605\n",
            "Epoch 43/50\n",
            "110288/110288 [==============================] - 14s 126us/step - loss: 0.1200 - acc: 0.9651 - val_loss: nan - val_acc: 0.9620\n",
            "Epoch 44/50\n",
            "110288/110288 [==============================] - 14s 126us/step - loss: 0.1169 - acc: 0.9658 - val_loss: nan - val_acc: 0.9628\n",
            "Epoch 45/50\n",
            "110288/110288 [==============================] - 14s 127us/step - loss: 0.1146 - acc: 0.9665 - val_loss: nan - val_acc: 0.9634\n",
            "Epoch 46/50\n",
            "110288/110288 [==============================] - 14s 126us/step - loss: 0.1141 - acc: 0.9665 - val_loss: nan - val_acc: 0.9628\n",
            "Epoch 47/50\n",
            "110288/110288 [==============================] - 14s 126us/step - loss: 0.1091 - acc: 0.9682 - val_loss: nan - val_acc: 0.9648\n",
            "Epoch 48/50\n",
            "110288/110288 [==============================] - 14s 126us/step - loss: 0.1077 - acc: 0.9686 - val_loss: nan - val_acc: 0.9653\n",
            "Epoch 49/50\n",
            "110288/110288 [==============================] - 14s 126us/step - loss: 0.1046 - acc: 0.9696 - val_loss: nan - val_acc: 0.9652\n",
            "Epoch 50/50\n",
            "110288/110288 [==============================] - 14s 126us/step - loss: 0.1026 - acc: 0.9700 - val_loss: nan - val_acc: 0.9664\n",
            "Sample 1:\n",
            "il a vu un vieux camion jaune <PAD> <PAD> <PAD> <PAD> <PAD> <PAD> <PAD> <PAD> <PAD> <PAD> <PAD> <PAD> <PAD> <PAD>\n",
            "Il a vu un vieux camion jaune\n",
            "Sample 2:\n",
            "new jersey est parfois calme au automne de et automne est neigeux en <PAD> <PAD> <PAD> <PAD> <PAD> <PAD> <PAD> <PAD>\n",
            "new jersey est parfois calme pendant l' automne et il est neigeux en avril <PAD> <PAD> <PAD> <PAD> <PAD> <PAD> <PAD>\n"
          ],
          "name": "stdout"
        }
      ]
    },
    {
      "metadata": {
        "id": "ans2kXqAAxn5",
        "colab_type": "code",
        "colab": {
          "base_uri": "https://localhost:8080/",
          "height": 431
        },
        "outputId": "bfe10b65-48da-4f9a-8a52-7c5a3231222b"
      },
      "cell_type": "code",
      "source": [
        "plot_training_history(h,'Prediction')"
      ],
      "execution_count": 25,
      "outputs": [
        {
          "output_type": "display_data",
          "data": {
            "image/png": "[encoded data removed]",
            "text/plain": [
              "<matplotlib.figure.Figure at 0x7f478654bcf8>"
            ]
          },
          "metadata": {
            "tags": []
          }
        }
      ]
    },
    {
      "metadata": {
        "id": "Fq2pXOGn1D0h",
        "colab_type": "text"
      },
      "cell_type": "markdown",
      "source": [
        "## Submission\n",
        "When you're ready to submit, complete the following steps:\n",
        "1. Review the [rubric](https://review.udacity.com/#!/rubrics/1004/view) to ensure your submission meets all requirements to pass\n",
        "2. Generate an HTML version of this notebook\n",
        "\n",
        "  - Run the next cell to attempt automatic generation (this is the recommended method in Workspaces)\n",
        "  - Navigate to **FILE -> Download as -> HTML (.html)**\n",
        "  - Manually generate a copy using `nbconvert` from your shell terminal\n",
        "```\n",
        "$ pip install nbconvert\n",
        "$ python -m nbconvert machine_translation.ipynb\n",
        "```\n",
        "  \n",
        "3. Submit the project\n",
        "\n",
        "  - If you are in a Workspace, simply click the \"Submit Project\" button (bottom towards the right)\n",
        "  \n",
        "  - Otherwise, add the following files into a zip archive and submit them \n",
        "  - `helper.py`\n",
        "  - `machine_translation.ipynb`\n",
        "  - `machine_translation.html`\n",
        "    - You can export the notebook by navigating to **File -> Download as -> HTML (.html)**."
      ]
    },
    {
      "metadata": {
        "id": "8NJMPtB91D0h",
        "colab_type": "code",
        "colab": {}
      },
      "cell_type": "code",
      "source": [
        "!!python -m nbconvert *.ipynb"
      ],
      "execution_count": 0,
      "outputs": []
    },
    {
      "metadata": {
        "id": "E2k6KYOy1D0j",
        "colab_type": "text"
      },
      "cell_type": "markdown",
      "source": [
        "## Optional Enhancements\n",
        "\n",
        "This project focuses on learning various network architectures for machine translation, but we don't evaluate the models according to best practices by splitting the data into separate test & training sets -- so the model accuracy is overstated. Use the [`sklearn.model_selection.train_test_split()`](http://scikit-learn.org/stable/modules/generated/sklearn.model_selection.train_test_split.html) function to create separate training & test datasets, then retrain each of the models using only the training set and evaluate the prediction accuracy using the hold out test set. Does the \"best\" model change?"
      ]
    },
    {
      "metadata": {
        "id": "6Ib6Elk5hwaB",
        "colab_type": "text"
      },
      "cell_type": "markdown",
      "source": [
        "**RESPONSE:** I already ran the model fit function using 20% validation set. The train and test sets accuracy are similar, which indicates a good generalization of the model. All model hyper-parameters are chosen such that number of total trainable parameters are similar (around 190,000) and all models ran over 50 epochs.\n",
        "\n",
        "Best model (Model 5: Custom) uses embeddings with an output dimension of 10 and bidrectional RNN (specifically GRU). Its overall accuracy is close to 96%. Even though I have not checked it out with detail some of the erronous translations might still be synonyms and hence not exactly an error. However that type of analysis requires digging down the error cases with a good understanding of French language."
      ]
    }
  ]
}